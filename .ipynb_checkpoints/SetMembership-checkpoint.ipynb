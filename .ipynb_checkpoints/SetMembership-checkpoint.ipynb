{
 "cells": [
  {
   "cell_type": "markdown",
   "metadata": {},
   "source": [
    "# Set Membership"
   ]
  },
  {
   "cell_type": "markdown",
   "metadata": {},
   "source": [
    "The cell below defines two **abstract classes**: the first represents a set and basic insert/search operations on it. You will need to impement this API four times, to implement (1) sequential search, (2) binary search tree, (3) balanced search tree, and (4) bloom filter. The second defines the synthetic data generator you will need to implement as part of your experimental framework. <br><br>**Do NOT modify the next cell** - use the dedicated cells further below for your implementation instead. <br>"
   ]
  },
  {
   "cell_type": "code",
   "execution_count": 1,
   "metadata": {},
   "outputs": [],
   "source": [
    "# DO NOT MODIFY THIS CELL\n",
    "\n",
    "from abc import ABC, abstractmethod  \n",
    "\n",
    "# abstract class to represent a set and its insert/search operations\n",
    "class AbstractSet(ABC):\n",
    "    \n",
    "    # constructor\n",
    "    @abstractmethod\n",
    "    def __init__(self):\n",
    "        pass           \n",
    "        \n",
    "    # inserts \"element\" in the set\n",
    "    # returns \"True\" after successful insertion, \"False\" if the element is already in the set\n",
    "    # element : str\n",
    "    # inserted : bool\n",
    "    @abstractmethod\n",
    "    def insertElement(self, element):     \n",
    "        inserted = False\n",
    "        return inserted   \n",
    "    \n",
    "    # checks whether \"element\" is in the set\n",
    "    # returns \"True\" if it is, \"False\" otherwise\n",
    "    # element : str\n",
    "    # found : bool\n",
    "    @abstractmethod\n",
    "    def searchElement(self, element):\n",
    "        found = False\n",
    "        return found    \n",
    "    \n",
    "    \n",
    "    \n",
    "# abstract class to represent a synthetic data generator\n",
    "class AbstractTestDataGenerator(ABC):\n",
    "    \n",
    "    # constructor\n",
    "    @abstractmethod\n",
    "    def __init__(self):\n",
    "        pass           \n",
    "        \n",
    "    # creates and returns a list of length \"size\" of strings\n",
    "    # size : int\n",
    "    # data : list<str>\n",
    "    @abstractmethod\n",
    "    def generateData(self, size):     \n",
    "        data = [\"\"]*size\n",
    "        return data"
   ]
  },
  {
   "cell_type": "markdown",
   "metadata": {},
   "source": [
    "Use the cell below to define any auxiliary data structure and python function you may need. Leave the implementation of the main API to the next code cells instead."
   ]
  },
  {
   "cell_type": "code",
   "execution_count": 2,
   "metadata": {},
   "outputs": [],
   "source": [
    "# ADD AUXILIARY DATA STRUCTURE DEFINITIONS AND HELPER CODE HERE\n",
    "\n"
   ]
  },
  {
   "cell_type": "markdown",
   "metadata": {},
   "source": [
    "Use the cell below to implement the requested API by means of **sequential search**."
   ]
  },
  {
   "cell_type": "code",
   "execution_count": 3,
   "metadata": {},
   "outputs": [],
   "source": [
    "class SequentialSearchSet(AbstractSet):\n",
    "    \n",
    "    def __init__(self):\n",
    "        # ADD YOUR CODE HERE\n",
    "        self.data = []\n",
    "        self.length = 0\n",
    "\n",
    "    def insertElement(self, element):\n",
    "        # ADD YOUR CODE HERE\n",
    "        if not self.searchElement(element):\n",
    "            self.data.append(element)\n",
    "            self.length += 1\n",
    "            return True\n",
    "        return False\n",
    "\n",
    "    def searchElement(self, element):\n",
    "        # ADD YOUR CODE HERE\n",
    "        for i in range(self.length):\n",
    "            if i == element:\n",
    "                return True\n",
    "        return False"
   ]
  },
  {
   "cell_type": "markdown",
   "metadata": {},
   "source": [
    "Use the cell below to implement the requested API by means of **binary search tree**."
   ]
  },
  {
   "cell_type": "code",
   "execution_count": 2,
   "metadata": {},
   "outputs": [],
   "source": [
    "class Node:\n",
    "    def __init__(self, value):\n",
    "        self.value = value\n",
    "        self.left = None\n",
    "        self.right = None\n",
    "\n",
    "class BinarySearchTreeSet(AbstractSet):\n",
    "    \n",
    "    def __init__(self):\n",
    "        # ADD YOUR CODE HERE\n",
    "        self.root = None\n",
    "\n",
    "    def insertElement(self, element):\n",
    "        # ADD YOUR CODE HERE\n",
    "        if self.root is None:\n",
    "            self.root = Node(element)\n",
    "            return True\n",
    "        current = self.root\n",
    "        while current:\n",
    "            if current.value == element:\n",
    "                return False\n",
    "            elif current.value > element:\n",
    "                if current.left is None:\n",
    "                    current.left = Node(element)\n",
    "                    return True\n",
    "                current = current.left\n",
    "            else:\n",
    "                if current.right is None:\n",
    "                    current.right = Node(element)\n",
    "                    return True\n",
    "                current = current.right\n",
    "\n",
    "    def searchElement(self, element):\n",
    "        found = False\n",
    "        # ADD YOUR CODE HERE\n",
    "        current = self.root\n",
    "        while current:\n",
    "            if current.value == element:\n",
    "                found = True\n",
    "                break\n",
    "            elif current.value > element:\n",
    "                current = current.left\n",
    "            else:\n",
    "                current = current.right\n",
    "        return found"
   ]
  },
  {
   "cell_type": "markdown",
   "metadata": {},
   "source": [
    "Use the cell below to implement the requested API by means of **balanced search tree**."
   ]
  },
  {
   "cell_type": "code",
   "execution_count": 22,
   "metadata": {},
   "outputs": [],
   "source": [
    "class Node:\n",
    "    def __init__(self, value, color=False):\n",
    "        self.value = value\n",
    "        self.left = None\n",
    "        self.right = None\n",
    "        self.color = color\n",
    "\n",
    "\n",
    "class BalancedSearchTreeSet(AbstractSet):\n",
    "\n",
    "    def __init__(self):\n",
    "        # ADD YOUR CODE HERE\n",
    "        self.root = None\n",
    "\n",
    "    def insertElement(self, value):\n",
    "        # Iterative implementation of LLRB tree insertion\n",
    "        # ADD YOUR CODE HERE\n",
    "        if self.root is None:\n",
    "            self.root = Node(value)\n",
    "            return True\n",
    "        current = self.root\n",
    "        stack = []\n",
    "        while current:\n",
    "            if current.value == value:\n",
    "                return False\n",
    "            stack.append(current)\n",
    "            if current.value > value:\n",
    "                current = current.left\n",
    "            else:\n",
    "                current = current.right\n",
    "        new_node = Node(value, True)\n",
    "        if stack[-1].value > value:\n",
    "            stack[-1].left = new_node\n",
    "        else:\n",
    "            stack[-1].right = new_node\n",
    "        while len(stack) > 1:\n",
    "            if self.isRed(stack[-1]):\n",
    "                if self.isRed(stack[-2].left) and stack[-1] == stack[-2].left:\n",
    "                    stack[-2] = self.rotateRight(stack[-2])\n",
    "                elif self.isRed(stack[-2].right) and stack[-1] == stack[-2].right:\n",
    "                    stack[-2] = self.rotateLeft(stack[-2])\n",
    "                elif self.isRed(stack[-2].left) and stack[-1] == stack[-2].right:\n",
    "                    stack[-2].left = self.rotateLeft(stack[-2].left)\n",
    "                    stack[-2] = self.rotateRight(stack[-2])\n",
    "                elif self.isRed(stack[-2].right) and stack[-1] == stack[-2].left:\n",
    "                    stack[-2].right = self.rotateRight(stack[-2].right)\n",
    "                    stack[-2] = self.rotateLeft(stack[-2])\n",
    "                else:\n",
    "                    break\n",
    "            stack.pop()\n",
    "\n",
    "    def searchElement(self, element):\n",
    "        found = False\n",
    "        # ADD YOUR CODE HERE\n",
    "        current = self.root\n",
    "        while current:\n",
    "            if current.value == element:\n",
    "                found = True\n",
    "                break\n",
    "            elif current.value > element:\n",
    "                current = current.left\n",
    "            else:\n",
    "                current = current.right\n",
    "        return found\n",
    "\n",
    "    def isRed(self, node):\n",
    "        if node is None:\n",
    "            return False\n",
    "        return node.color\n",
    "\n",
    "    def rotateLeft(self, node):\n",
    "        right_child = node.right\n",
    "        node.right = right_child.left\n",
    "        right_child.left = node\n",
    "        right_child.color = node.color\n",
    "        node.color = True\n",
    "        return right_child\n",
    "\n",
    "    def rotateRight(self, node):\n",
    "        x = node.left\n",
    "        node.left = x.right\n",
    "        x.right = node\n",
    "        x.color = node.color\n",
    "        node.color = True\n",
    "        return x\n",
    "\n",
    "    def flipColor(self, node):\n",
    "        node.color = True\n",
    "        node.left.color = False\n",
    "        node.right.color = False\n"
   ]
  },
  {
   "cell_type": "markdown",
   "metadata": {},
   "source": [
    "Use the cell below to implement the requested API by means of **bloom filter**."
   ]
  },
  {
   "cell_type": "code",
   "execution_count": 6,
   "metadata": {},
   "outputs": [],
   "source": [
    "class BloomFilterSet(AbstractSet):\n",
    "    \n",
    "    def __init__(self):\n",
    "        # ADD YOUR CODE HERE\n",
    "\n",
    "        \n",
    "        pass           \n",
    "     \n",
    "    \n",
    "        \n",
    "    def insertElement(self, element):\n",
    "        inserted = False\n",
    "        # ADD YOUR CODE HERE\n",
    "      \n",
    "        \n",
    "        return inserted\n",
    "    \n",
    "    \n",
    "\n",
    "    def searchElement(self, element):     \n",
    "        found = False\n",
    "        # ADD YOUR CODE HERE\n",
    "\n",
    "        \n",
    "        return found    "
   ]
  },
  {
   "cell_type": "markdown",
   "metadata": {},
   "source": [
    "Use the cell below to implement the **synthetic data generator** as part of your experimental framework."
   ]
  },
  {
   "cell_type": "code",
   "execution_count": 7,
   "metadata": {},
   "outputs": [],
   "source": [
    "import string\n",
    "import random\n",
    "\n",
    "class TestDataGenerator(AbstractTestDataGenerator):\n",
    "    \n",
    "    def __init__(self):\n",
    "        # ADD YOUR CODE HERE\n",
    "        \n",
    "        pass           \n",
    "        \n",
    "    def generateData(self, size):     \n",
    "        # ADD YOUR CODE HERE\n",
    "        data = [\"\"]*size\n",
    "        \n",
    "\n",
    "        return data   \n",
    "\n"
   ]
  },
  {
   "cell_type": "markdown",
   "metadata": {},
   "source": [
    "Use the cells below for the python code needed to **fully evaluate your implementations**, first on real data and subsequently on synthetic data (i.e., read data from test files / generate synthetic one, instantiate each of the 4 set implementations in turn, then thorouhgly experiment with insert/search operations and measure their performance)."
   ]
  },
  {
   "cell_type": "code",
   "execution_count": 4,
   "metadata": {},
   "outputs": [
    {
     "name": "stdout",
     "output_type": "stream",
     "text": [
      "test1-mobydick.txt, BST insert time: 0.2730189170000017\n",
      "test1-mobydick.txt,BST search time:  0.0007116250000009927\n",
      "test2-warpeace.txt, BST insert time: 0.7204100829999973\n",
      "test2-warpeace.txt,BST search time:  0.0007473750000031032\n",
      "test3-dickens.txt, BST insert time: 6.2667221669999975\n",
      "test3-dickens.txt,BST search time:  0.0007581670000007534\n"
     ]
    }
   ],
   "source": [
    "import timeit\n",
    "\n",
    "# ADD YOUR TEST CODE HERE TO WORK ON REAL DATA\n",
    "files = [\"test1-mobydick.txt\", \"test2-warpeace.txt\", \"test3-dickens.txt\"]\n",
    "for file in files:\n",
    "    with open(f\"testfiles/{file}\", \"r\") as f:\n",
    "        data = f.read().split()\n",
    "    with open(\"testfiles/test-search.txt\", \"r\") as t:\n",
    "        search_data = t.read().split()\n",
    "    bst = BinarySearchTreeSet()\n",
    "    insert_time = timeit.timeit(lambda: [bst.insertElement(word) for word in data], number=1)\n",
    "    search_time = timeit.timeit(lambda: [bst.searchElement(search_word) for search_word in search_data], number=1)\n",
    "    print(f\"{file}, BST insert time: {insert_time}\")\n",
    "    print(f\"{file},BST search time:  {search_time}\")"
   ]
  },
  {
   "cell_type": "code",
   "execution_count": 9,
   "metadata": {},
   "outputs": [],
   "source": [
    "import timeit\n",
    "\n",
    "# ADD YOUR TEST CODE HERE TO WORK ON SYNTHETIC DATA\n",
    "\n",
    "\n",
    "\n"
   ]
  }
 ],
 "metadata": {
  "kernelspec": {
   "display_name": "Python 3 (ipykernel)",
   "language": "python",
   "name": "python3"
  },
  "language_info": {
   "codemirror_mode": {
    "name": "ipython",
    "version": 3
   },
   "file_extension": ".py",
   "mimetype": "text/x-python",
   "name": "python",
   "nbconvert_exporter": "python",
   "pygments_lexer": "ipython3",
   "version": "3.9.9"
  }
 },
 "nbformat": 4,
 "nbformat_minor": 4
}
