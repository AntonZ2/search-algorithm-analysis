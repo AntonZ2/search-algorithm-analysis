{
 "cells": [
  {
   "cell_type": "markdown",
   "metadata": {},
   "source": [
    "# Set Membership"
   ]
  },
  {
   "cell_type": "markdown",
   "metadata": {},
   "source": [
    "The cell below defines two **abstract classes**: the first represents a set and basic insert/search operations on it. You will need to impement this API four times, to implement (1) sequential search, (2) binary search tree, (3) balanced search tree, and (4) bloom filter. The second defines the synthetic data generator you will need to implement as part of your experimental framework. <br><br>**Do NOT modify the next cell** - use the dedicated cells further below for your implementation instead. <br>"
   ]
  },
  {
   "cell_type": "code",
   "execution_count": 1,
   "metadata": {},
   "outputs": [],
   "source": [
    "# DO NOT MODIFY THIS CELL\n",
    "\n",
    "from abc import ABC, abstractmethod  \n",
    "\n",
    "# abstract class to represent a set and its insert/search operations\n",
    "class AbstractSet(ABC):\n",
    "    \n",
    "    # constructor\n",
    "    @abstractmethod\n",
    "    def __init__(self):\n",
    "        pass           \n",
    "        \n",
    "    # inserts \"element\" in the set\n",
    "    # returns \"True\" after successful insertion, \"False\" if the element is already in the set\n",
    "    # element : str\n",
    "    # inserted : bool\n",
    "    @abstractmethod\n",
    "    def insertElement(self, element):     \n",
    "        inserted = False\n",
    "        return inserted   \n",
    "    \n",
    "    # checks whether \"element\" is in the set\n",
    "    # returns \"True\" if it is, \"False\" otherwise\n",
    "    # element : str\n",
    "    # found : bool\n",
    "    @abstractmethod\n",
    "    def searchElement(self, element):\n",
    "        found = False\n",
    "        return found    \n",
    "    \n",
    "    \n",
    "    \n",
    "# abstract class to represent a synthetic data generator\n",
    "class AbstractTestDataGenerator(ABC):\n",
    "    \n",
    "    # constructor\n",
    "    @abstractmethod\n",
    "    def __init__(self):\n",
    "        pass           \n",
    "        \n",
    "    # creates and returns a list of length \"size\" of strings\n",
    "    # size : int\n",
    "    # data : list<str>\n",
    "    @abstractmethod\n",
    "    def generateData(self, size):     \n",
    "        data = [\"\"]*size\n",
    "        return data"
   ]
  },
  {
   "cell_type": "markdown",
   "metadata": {},
   "source": [
    "Use the cell below to define any auxiliary data structure and python function you may need. Leave the implementation of the main API to the next code cells instead."
   ]
  },
  {
   "cell_type": "code",
   "execution_count": 2,
   "metadata": {},
   "outputs": [],
   "source": [
    "# ADD AUXILIARY DATA STRUCTURE DEFINITIONS AND HELPER CODE HERE\n",
    "\n",
    "\n",
    "class RBNode:\n",
    "    def __init__(self, value, parent, color=False):\n",
    "        self.value = value\n",
    "        self.left = None\n",
    "        self.right = None\n",
    "        self.color = color\n",
    "        self.parent = parent\n",
    "\n",
    "class Node:\n",
    "    def __init__(self, value):\n",
    "        self.value = value\n",
    "        self.left = None\n",
    "        self.right = None"
   ]
  },
  {
   "cell_type": "markdown",
   "metadata": {},
   "source": [
    "Use the cell below to implement the requested API by means of **sequential search**."
   ]
  },
  {
   "cell_type": "code",
   "execution_count": 3,
   "metadata": {},
   "outputs": [],
   "source": [
    "class SequentialSearchSet(AbstractSet):\n",
    "    \n",
    "    def __init__(self):\n",
    "        self.data = []\n",
    "\n",
    "    def insertElement(self, element):\n",
    "        # ADD YOUR CODE HERE\n",
    "        if not self.searchElement(element):\n",
    "            self.data.append(element)\n",
    "            return True\n",
    "        return False\n",
    "\n",
    "    def searchElement(self, element):\n",
    "        for item in self.data:\n",
    "            if item == element:\n",
    "                return True\n",
    "        return False"
   ]
  },
  {
   "cell_type": "markdown",
   "metadata": {},
   "source": [
    "Use the cell below to implement the requested API by means of **binary search tree**."
   ]
  },
  {
   "cell_type": "code",
   "execution_count": 72,
   "metadata": {},
   "outputs": [],
   "source": [
    "class BinarySearchTreeSet(AbstractSet):\n",
    "    \n",
    "    def __init__(self):\n",
    "        self.root = None\n",
    "\n",
    "    def insertElement(self, element):\n",
    "        if self.root is None:\n",
    "            self.root = Node(element)\n",
    "            return True\n",
    "        current = self.root\n",
    "        while current:\n",
    "            if current.value == element:\n",
    "                return False\n",
    "            elif current.value > element:\n",
    "                if current.left is None:\n",
    "                    current.left = Node(element)\n",
    "                    return True\n",
    "                current = current.left\n",
    "            else:\n",
    "                if current.right is None:\n",
    "                    current.right = Node(element)\n",
    "                    return True\n",
    "                current = current.right\n",
    "\n",
    "    def searchElement(self, element):\n",
    "        current = self.root\n",
    "        while current:\n",
    "            if current.value == element:\n",
    "                return True\n",
    "            elif current.value > element:\n",
    "                current = current.left\n",
    "            else:\n",
    "                current = current.right\n",
    "        return False"
   ]
  },
  {
   "cell_type": "markdown",
   "metadata": {},
   "source": [
    "Use the cell below to implement the requested API by means of **balanced search tree**."
   ]
  },
  {
   "cell_type": "code",
   "execution_count": 10,
   "metadata": {},
   "outputs": [],
   "source": [
    "class BalancedSearchTreeSet(AbstractSet):\n",
    "    def __init__(self):\n",
    "        self.root = None\n",
    "\n",
    "    def searchElement(self, element):\n",
    "        found = False\n",
    "        current = self.root\n",
    "        while current:\n",
    "            if current.value == element:\n",
    "                found = True\n",
    "                break\n",
    "            elif current.value > element:\n",
    "                current = current.left\n",
    "            else:\n",
    "                current = current.right\n",
    "        return found\n",
    "\n",
    "    def insertElement(self, element):\n",
    "        if self.root is None:\n",
    "            new_node = RBNode(element, None, True)\n",
    "            self.root = new_node\n",
    "        else:\n",
    "            parent = None\n",
    "            node = self.root\n",
    "            while node is not None:\n",
    "                parent = node\n",
    "                if element < node.value:\n",
    "                    node = node.left\n",
    "                elif element > node.value:\n",
    "                    node = node.right\n",
    "                else:\n",
    "                    return False\n",
    "\n",
    "            new_node = RBNode(element, parent, True)\n",
    "            if new_node.value < parent.value:\n",
    "                parent.left = new_node\n",
    "            else:\n",
    "                parent.right = new_node\n",
    "        self.balanceTree(new_node)\n",
    "        return True\n",
    "\n",
    "    def balanceTree(self, node):\n",
    "        while node.parent is not None and node.parent.color:\n",
    "            if node.parent == node.parent.parent.left:\n",
    "                uncle = node.parent.parent.right\n",
    "                if uncle is not None and uncle.color:\n",
    "                    node.parent.color = False\n",
    "                    uncle.color = False\n",
    "                    node.parent.parent.color = True\n",
    "                    node = node.parent.parent\n",
    "                else:\n",
    "                    if node == node.parent.right:\n",
    "                        node = node.parent\n",
    "                        self.rotateLeft(node)\n",
    "\n",
    "                    node.parent.color = False\n",
    "                    node.parent.parent.color = True\n",
    "                    self.rotateRight(node.parent.parent)\n",
    "            else:\n",
    "                uncle = node.parent.parent.left\n",
    "                if uncle is not None and uncle.color:\n",
    "                    node.parent.color = False\n",
    "                    uncle.color = False\n",
    "                    node.parent.parent.color = True\n",
    "                    node = node.parent.parent\n",
    "                else:\n",
    "                    if node == node.parent.left:\n",
    "                        node = node.parent\n",
    "                        self.rotateRight(node)\n",
    "\n",
    "                    node.parent.color = False\n",
    "                    node.parent.parent.color = True\n",
    "                    self.rotateLeft(node.parent.parent)\n",
    "\n",
    "        self.root.color = False\n",
    "\n",
    "    def rotateLeft(self, node):\n",
    "        right_child = node.right\n",
    "        node.right = right_child.left\n",
    "        if right_child.left is not None:\n",
    "            right_child.left.parent = node\n",
    "\n",
    "        right_child.parent = node.parent\n",
    "        if node.parent is None:\n",
    "            self.root = right_child\n",
    "        elif node == node.parent.left:\n",
    "            node.parent.left = right_child\n",
    "        else:\n",
    "            node.parent.right = right_child\n",
    "\n",
    "        right_child.left = node\n",
    "        node.parent = right_child\n",
    "\n",
    "    def rotateRight(self, node):\n",
    "        left_child = node.left\n",
    "        node.left = left_child.right\n",
    "        if left_child.right is not None:\n",
    "            left_child.right.parent = node\n",
    "\n",
    "        left_child.parent = node.parent\n",
    "        if node.parent is None:\n",
    "            self.root = left_child\n",
    "        elif node == node.parent.right:\n",
    "            node.parent.right = left_child\n",
    "        else:\n",
    "            node.parent.left = left_child\n",
    "\n",
    "        left_child.right = node\n",
    "        node.parent = left_child"
   ]
  },
  {
   "cell_type": "markdown",
   "metadata": {},
   "source": [
    "Use the cell below to implement the requested API by means of **bloom filter**."
   ]
  },
  {
   "cell_type": "code",
   "execution_count": 11,
   "metadata": {
    "collapsed": false
   },
   "outputs": [],
   "source": [
    "from bitarray import bitarray\n",
    "class BloomFilterSet(AbstractSet):\n",
    "    def __init__(self):\n",
    "        self.size = 624698\n",
    "        self.num_hashes = 4 # 1-4 hash functions\n",
    "        self.bit_array = bitarray(self.size)\n",
    "        self.bit_array.setall(0)\n",
    "        self.primes = [31, 59, 89, 107]\n",
    "\n",
    "    def hashElement(self, element, seed):\n",
    "        return (hash(element) ^ seed + seed) % self.size\n",
    "\n",
    "    def insertElement(self, element):\n",
    "        inserted = False\n",
    "        for prime in self.primes:\n",
    "            hash_val = self.hashElement(element, prime)\n",
    "            if self.bit_array[hash_val] == 0:\n",
    "                inserted = True\n",
    "                self.bit_array[hash_val] = 1\n",
    "        return inserted\n",
    "\n",
    "    def searchElement(self, element):\n",
    "        for prime in self.primes:\n",
    "            hash_val = self.hashElement(element, prime)\n",
    "            if self.bit_array[hash_val] == 0:\n",
    "                return False\n",
    "        return True"
   ]
  },
  {
   "cell_type": "markdown",
   "metadata": {},
   "source": [
    "Use the cell below to implement the **synthetic data generator** as part of your experimental framework."
   ]
  },
  {
   "cell_type": "code",
   "execution_count": 365,
   "metadata": {},
   "outputs": [],
   "source": [
    "import string\n",
    "import random\n",
    "\n",
    "class TestDataGenerator(AbstractTestDataGenerator):\n",
    "    \n",
    "    def __init__(self):\n",
    "        self.data = []\n",
    "        self.word_length = 7\n",
    "\n",
    "    def generateData(self, size):     \n",
    "        self.data = []\n",
    "        for i in range(size):\n",
    "            self.data.append(\"\".join(random.choices(string.ascii_lowercase, k=self.word_length)))\n",
    "        return self.data\n",
    "\n",
    "    def generateSearchSet(self, size):\n",
    "        search_set = []\n",
    "        for i in range(size//2):\n",
    "            search_set.append(random.choice(self.data))\n",
    "            search_set.append(\"\".join(random.choices(string.ascii_lowercase, k=self.word_length)))\n",
    "        if len(search_set) < size:\n",
    "            search_set.append(random.choice(self.data))\n",
    "        return search_set\n",
    "\n",
    "    def treeWorstCase(self, data):\n",
    "        return self.merge_sort(data)\n",
    "\n",
    "    def worstCaseSearch(self, size):\n",
    "        search_set = []\n",
    "        for i in range(size):\n",
    "            # z's ensure that the ascii value is larger than all random strings,\n",
    "            # extra random chars ensure that the items are not in the data set\n",
    "            search_set.append(\"zzzzzzzzz\")\n",
    "        return search_set\n",
    "\n",
    "\n",
    "    def merge_sort(self, data):\n",
    "        if len(data) <= 1:\n",
    "            return data\n",
    "        mid = len(data) // 2\n",
    "        left = self.merge_sort(data[:mid])\n",
    "        right = self.merge_sort(data[mid:])\n",
    "        return self.merge(left, right)\n",
    "\n",
    "    def merge(self, left, right):\n",
    "        result = []\n",
    "        while len(left) > 0 and len(right) > 0:\n",
    "            if left[0] < right[0]:\n",
    "                result.append(left[0])\n",
    "                left = left[1:]\n",
    "            else:\n",
    "                result.append(right[0])\n",
    "                right = right[1:]\n",
    "        if len(left) > 0:\n",
    "            result += left\n",
    "        if len(right) > 0:\n",
    "            result += right\n",
    "        return result\n"
   ]
  },
  {
   "cell_type": "markdown",
   "metadata": {},
   "source": [
    "Use the cells below for the python code needed to **fully evaluate your implementations**, first on real data and subsequently on synthetic data (i.e., read data from test files / generate synthetic one, instantiate each of the 4 set implementations in turn, then thorouhgly experiment with insert/search operations and measure their performance)."
   ]
  },
  {
   "cell_type": "code",
   "execution_count": 358,
   "metadata": {},
   "outputs": [
    {
     "name": "stdout",
     "output_type": "stream",
     "text": [
      "Testing mobydick\n"
     ]
    },
    {
     "ename": "KeyboardInterrupt",
     "evalue": "",
     "output_type": "error",
     "traceback": [
      "\u001B[0;31m---------------------------------------------------------------------------\u001B[0m",
      "\u001B[0;31mKeyboardInterrupt\u001B[0m                         Traceback (most recent call last)",
      "Cell \u001B[0;32mIn[358], line 40\u001B[0m\n\u001B[1;32m     37\u001B[0m         insert_time, search_time \u001B[38;5;241m=\u001B[39m test_total_time(seq, search_set, read_file(\u001B[38;5;124mf\u001B[39m\u001B[38;5;124m\"\u001B[39m\u001B[38;5;124mtestfiles/\u001B[39m\u001B[38;5;132;01m{\u001B[39;00mfile\u001B[38;5;132;01m}\u001B[39;00m\u001B[38;5;124m\"\u001B[39m))\n\u001B[1;32m     38\u001B[0m         print_data(seq\u001B[38;5;241m.\u001B[39m\u001B[38;5;18m__class__\u001B[39m\u001B[38;5;241m.\u001B[39m\u001B[38;5;18m__name__\u001B[39m, insert_time, search_time)\n\u001B[0;32m---> 40\u001B[0m \u001B[43mtotal_times_real\u001B[49m\u001B[43m(\u001B[49m\u001B[43m)\u001B[49m\n",
      "Cell \u001B[0;32mIn[358], line 37\u001B[0m, in \u001B[0;36mtotal_times_real\u001B[0;34m()\u001B[0m\n\u001B[1;32m     34\u001B[0m bloom \u001B[38;5;241m=\u001B[39m BloomFilterSet()\n\u001B[1;32m     35\u001B[0m \u001B[38;5;28mprint\u001B[39m(\u001B[38;5;124mf\u001B[39m\u001B[38;5;124m\"\u001B[39m\u001B[38;5;124mTesting \u001B[39m\u001B[38;5;132;01m{\u001B[39;00mfile[\u001B[38;5;241m6\u001B[39m:\u001B[38;5;241m-\u001B[39m\u001B[38;5;241m4\u001B[39m]\u001B[38;5;132;01m}\u001B[39;00m\u001B[38;5;124m\"\u001B[39m)\n\u001B[0;32m---> 37\u001B[0m insert_time, search_time \u001B[38;5;241m=\u001B[39m \u001B[43mtest_total_time\u001B[49m\u001B[43m(\u001B[49m\u001B[43mseq\u001B[49m\u001B[43m,\u001B[49m\u001B[43m \u001B[49m\u001B[43msearch_set\u001B[49m\u001B[43m,\u001B[49m\u001B[43m \u001B[49m\u001B[43mread_file\u001B[49m\u001B[43m(\u001B[49m\u001B[38;5;124;43mf\u001B[39;49m\u001B[38;5;124;43m\"\u001B[39;49m\u001B[38;5;124;43mtestfiles/\u001B[39;49m\u001B[38;5;132;43;01m{\u001B[39;49;00m\u001B[43mfile\u001B[49m\u001B[38;5;132;43;01m}\u001B[39;49;00m\u001B[38;5;124;43m\"\u001B[39;49m\u001B[43m)\u001B[49m\u001B[43m)\u001B[49m\n\u001B[1;32m     38\u001B[0m print_data(seq\u001B[38;5;241m.\u001B[39m\u001B[38;5;18m__class__\u001B[39m\u001B[38;5;241m.\u001B[39m\u001B[38;5;18m__name__\u001B[39m, insert_time, search_time)\n",
      "Cell \u001B[0;32mIn[358], line 22\u001B[0m, in \u001B[0;36mtest_total_time\u001B[0;34m(searchAlg, search_set, data_set)\u001B[0m\n\u001B[1;32m     20\u001B[0m \u001B[38;5;28;01mdef\u001B[39;00m \u001B[38;5;21mtest_total_time\u001B[39m(searchAlg ,search_set, data_set):\n\u001B[1;32m     21\u001B[0m     gc\u001B[38;5;241m.\u001B[39mdisable()\n\u001B[0;32m---> 22\u001B[0m     insert_time \u001B[38;5;241m=\u001B[39m \u001B[43mtimeit\u001B[49m\u001B[38;5;241;43m.\u001B[39;49m\u001B[43mtimeit\u001B[49m\u001B[43m(\u001B[49m\u001B[38;5;28;43;01mlambda\u001B[39;49;00m\u001B[43m:\u001B[49m\u001B[43m \u001B[49m\u001B[43m[\u001B[49m\u001B[43msearchAlg\u001B[49m\u001B[38;5;241;43m.\u001B[39;49m\u001B[43minsertElement\u001B[49m\u001B[43m(\u001B[49m\u001B[43mword\u001B[49m\u001B[43m)\u001B[49m\u001B[43m \u001B[49m\u001B[38;5;28;43;01mfor\u001B[39;49;00m\u001B[43m \u001B[49m\u001B[43mword\u001B[49m\u001B[43m \u001B[49m\u001B[38;5;129;43;01min\u001B[39;49;00m\u001B[43m \u001B[49m\u001B[43mdata_set\u001B[49m\u001B[43m]\u001B[49m\u001B[43m,\u001B[49m\u001B[43m \u001B[49m\u001B[43mnumber\u001B[49m\u001B[38;5;241;43m=\u001B[39;49m\u001B[38;5;241;43m1\u001B[39;49m\u001B[43m)\u001B[49m\n\u001B[1;32m     23\u001B[0m     search_time \u001B[38;5;241m=\u001B[39m timeit\u001B[38;5;241m.\u001B[39mtimeit(\u001B[38;5;28;01mlambda\u001B[39;00m: [searchAlg\u001B[38;5;241m.\u001B[39msearchElement(search_word)\n\u001B[1;32m     24\u001B[0m                                          \u001B[38;5;28;01mfor\u001B[39;00m search_word \u001B[38;5;129;01min\u001B[39;00m search_set], number\u001B[38;5;241m=\u001B[39m\u001B[38;5;241m1\u001B[39m)\n\u001B[1;32m     25\u001B[0m     gc\u001B[38;5;241m.\u001B[39menable()\n",
      "File \u001B[0;32m/Library/Frameworks/Python.framework/Versions/3.11/lib/python3.11/timeit.py:234\u001B[0m, in \u001B[0;36mtimeit\u001B[0;34m(stmt, setup, timer, number, globals)\u001B[0m\n\u001B[1;32m    231\u001B[0m \u001B[38;5;28;01mdef\u001B[39;00m \u001B[38;5;21mtimeit\u001B[39m(stmt\u001B[38;5;241m=\u001B[39m\u001B[38;5;124m\"\u001B[39m\u001B[38;5;124mpass\u001B[39m\u001B[38;5;124m\"\u001B[39m, setup\u001B[38;5;241m=\u001B[39m\u001B[38;5;124m\"\u001B[39m\u001B[38;5;124mpass\u001B[39m\u001B[38;5;124m\"\u001B[39m, timer\u001B[38;5;241m=\u001B[39mdefault_timer,\n\u001B[1;32m    232\u001B[0m            number\u001B[38;5;241m=\u001B[39mdefault_number, \u001B[38;5;28mglobals\u001B[39m\u001B[38;5;241m=\u001B[39m\u001B[38;5;28;01mNone\u001B[39;00m):\n\u001B[1;32m    233\u001B[0m \u001B[38;5;250m    \u001B[39m\u001B[38;5;124;03m\"\"\"Convenience function to create Timer object and call timeit method.\"\"\"\u001B[39;00m\n\u001B[0;32m--> 234\u001B[0m     \u001B[38;5;28;01mreturn\u001B[39;00m \u001B[43mTimer\u001B[49m\u001B[43m(\u001B[49m\u001B[43mstmt\u001B[49m\u001B[43m,\u001B[49m\u001B[43m \u001B[49m\u001B[43msetup\u001B[49m\u001B[43m,\u001B[49m\u001B[43m \u001B[49m\u001B[43mtimer\u001B[49m\u001B[43m,\u001B[49m\u001B[43m \u001B[49m\u001B[38;5;28;43mglobals\u001B[39;49m\u001B[43m)\u001B[49m\u001B[38;5;241;43m.\u001B[39;49m\u001B[43mtimeit\u001B[49m\u001B[43m(\u001B[49m\u001B[43mnumber\u001B[49m\u001B[43m)\u001B[49m\n",
      "File \u001B[0;32m/Library/Frameworks/Python.framework/Versions/3.11/lib/python3.11/timeit.py:178\u001B[0m, in \u001B[0;36mTimer.timeit\u001B[0;34m(self, number)\u001B[0m\n\u001B[1;32m    176\u001B[0m gc\u001B[38;5;241m.\u001B[39mdisable()\n\u001B[1;32m    177\u001B[0m \u001B[38;5;28;01mtry\u001B[39;00m:\n\u001B[0;32m--> 178\u001B[0m     timing \u001B[38;5;241m=\u001B[39m \u001B[38;5;28;43mself\u001B[39;49m\u001B[38;5;241;43m.\u001B[39;49m\u001B[43minner\u001B[49m\u001B[43m(\u001B[49m\u001B[43mit\u001B[49m\u001B[43m,\u001B[49m\u001B[43m \u001B[49m\u001B[38;5;28;43mself\u001B[39;49m\u001B[38;5;241;43m.\u001B[39;49m\u001B[43mtimer\u001B[49m\u001B[43m)\u001B[49m\n\u001B[1;32m    179\u001B[0m \u001B[38;5;28;01mfinally\u001B[39;00m:\n\u001B[1;32m    180\u001B[0m     \u001B[38;5;28;01mif\u001B[39;00m gcold:\n",
      "File \u001B[0;32m<timeit-src>:6\u001B[0m, in \u001B[0;36minner\u001B[0;34m(_it, _timer, _stmt)\u001B[0m\n",
      "Cell \u001B[0;32mIn[358], line 22\u001B[0m, in \u001B[0;36mtest_total_time.<locals>.<lambda>\u001B[0;34m()\u001B[0m\n\u001B[1;32m     20\u001B[0m \u001B[38;5;28;01mdef\u001B[39;00m \u001B[38;5;21mtest_total_time\u001B[39m(searchAlg ,search_set, data_set):\n\u001B[1;32m     21\u001B[0m     gc\u001B[38;5;241m.\u001B[39mdisable()\n\u001B[0;32m---> 22\u001B[0m     insert_time \u001B[38;5;241m=\u001B[39m timeit\u001B[38;5;241m.\u001B[39mtimeit(\u001B[38;5;28;01mlambda\u001B[39;00m: \u001B[43m[\u001B[49m\u001B[43msearchAlg\u001B[49m\u001B[38;5;241;43m.\u001B[39;49m\u001B[43minsertElement\u001B[49m\u001B[43m(\u001B[49m\u001B[43mword\u001B[49m\u001B[43m)\u001B[49m\u001B[43m \u001B[49m\u001B[38;5;28;43;01mfor\u001B[39;49;00m\u001B[43m \u001B[49m\u001B[43mword\u001B[49m\u001B[43m \u001B[49m\u001B[38;5;129;43;01min\u001B[39;49;00m\u001B[43m \u001B[49m\u001B[43mdata_set\u001B[49m\u001B[43m]\u001B[49m, number\u001B[38;5;241m=\u001B[39m\u001B[38;5;241m1\u001B[39m)\n\u001B[1;32m     23\u001B[0m     search_time \u001B[38;5;241m=\u001B[39m timeit\u001B[38;5;241m.\u001B[39mtimeit(\u001B[38;5;28;01mlambda\u001B[39;00m: [searchAlg\u001B[38;5;241m.\u001B[39msearchElement(search_word)\n\u001B[1;32m     24\u001B[0m                                          \u001B[38;5;28;01mfor\u001B[39;00m search_word \u001B[38;5;129;01min\u001B[39;00m search_set], number\u001B[38;5;241m=\u001B[39m\u001B[38;5;241m1\u001B[39m)\n\u001B[1;32m     25\u001B[0m     gc\u001B[38;5;241m.\u001B[39menable()\n",
      "Cell \u001B[0;32mIn[358], line 22\u001B[0m, in \u001B[0;36m<listcomp>\u001B[0;34m(.0)\u001B[0m\n\u001B[1;32m     20\u001B[0m \u001B[38;5;28;01mdef\u001B[39;00m \u001B[38;5;21mtest_total_time\u001B[39m(searchAlg ,search_set, data_set):\n\u001B[1;32m     21\u001B[0m     gc\u001B[38;5;241m.\u001B[39mdisable()\n\u001B[0;32m---> 22\u001B[0m     insert_time \u001B[38;5;241m=\u001B[39m timeit\u001B[38;5;241m.\u001B[39mtimeit(\u001B[38;5;28;01mlambda\u001B[39;00m: [\u001B[43msearchAlg\u001B[49m\u001B[38;5;241;43m.\u001B[39;49m\u001B[43minsertElement\u001B[49m\u001B[43m(\u001B[49m\u001B[43mword\u001B[49m\u001B[43m)\u001B[49m \u001B[38;5;28;01mfor\u001B[39;00m word \u001B[38;5;129;01min\u001B[39;00m data_set], number\u001B[38;5;241m=\u001B[39m\u001B[38;5;241m1\u001B[39m)\n\u001B[1;32m     23\u001B[0m     search_time \u001B[38;5;241m=\u001B[39m timeit\u001B[38;5;241m.\u001B[39mtimeit(\u001B[38;5;28;01mlambda\u001B[39;00m: [searchAlg\u001B[38;5;241m.\u001B[39msearchElement(search_word)\n\u001B[1;32m     24\u001B[0m                                          \u001B[38;5;28;01mfor\u001B[39;00m search_word \u001B[38;5;129;01min\u001B[39;00m search_set], number\u001B[38;5;241m=\u001B[39m\u001B[38;5;241m1\u001B[39m)\n\u001B[1;32m     25\u001B[0m     gc\u001B[38;5;241m.\u001B[39menable()\n",
      "Cell \u001B[0;32mIn[3], line 8\u001B[0m, in \u001B[0;36mSequentialSearchSet.insertElement\u001B[0;34m(self, element)\u001B[0m\n\u001B[1;32m      6\u001B[0m \u001B[38;5;28;01mdef\u001B[39;00m \u001B[38;5;21minsertElement\u001B[39m(\u001B[38;5;28mself\u001B[39m, element):\n\u001B[1;32m      7\u001B[0m     \u001B[38;5;66;03m# ADD YOUR CODE HERE\u001B[39;00m\n\u001B[0;32m----> 8\u001B[0m     \u001B[38;5;28;01mif\u001B[39;00m \u001B[38;5;129;01mnot\u001B[39;00m \u001B[38;5;28;43mself\u001B[39;49m\u001B[38;5;241;43m.\u001B[39;49m\u001B[43msearchElement\u001B[49m\u001B[43m(\u001B[49m\u001B[43melement\u001B[49m\u001B[43m)\u001B[49m:\n\u001B[1;32m      9\u001B[0m         \u001B[38;5;28mself\u001B[39m\u001B[38;5;241m.\u001B[39mdata\u001B[38;5;241m.\u001B[39mappend(element)\n\u001B[1;32m     10\u001B[0m         \u001B[38;5;28;01mreturn\u001B[39;00m \u001B[38;5;28;01mTrue\u001B[39;00m\n",
      "Cell \u001B[0;32mIn[3], line 15\u001B[0m, in \u001B[0;36mSequentialSearchSet.searchElement\u001B[0;34m(self, element)\u001B[0m\n\u001B[1;32m     13\u001B[0m \u001B[38;5;28;01mdef\u001B[39;00m \u001B[38;5;21msearchElement\u001B[39m(\u001B[38;5;28mself\u001B[39m, element):\n\u001B[1;32m     14\u001B[0m     \u001B[38;5;28;01mfor\u001B[39;00m item \u001B[38;5;129;01min\u001B[39;00m \u001B[38;5;28mself\u001B[39m\u001B[38;5;241m.\u001B[39mdata:\n\u001B[0;32m---> 15\u001B[0m         \u001B[38;5;28;01mif\u001B[39;00m item \u001B[38;5;241m==\u001B[39m element:\n\u001B[1;32m     16\u001B[0m             \u001B[38;5;28;01mreturn\u001B[39;00m \u001B[38;5;28;01mTrue\u001B[39;00m\n\u001B[1;32m     17\u001B[0m     \u001B[38;5;28;01mreturn\u001B[39;00m \u001B[38;5;28;01mFalse\u001B[39;00m\n",
      "\u001B[0;31mKeyboardInterrupt\u001B[0m: "
     ]
    }
   ],
   "source": [
    "import timeit\n",
    "import gc\n",
    "\n",
    "def read_file(filename):\n",
    "    my_file = open(filename, 'r')\n",
    "    data = my_file.read().split()\n",
    "    my_file.close()\n",
    "    return data\n",
    "\n",
    "files = ['test1-mobydick.txt', 'test2-warpeace.txt', 'test3-dickens.txt']\n",
    "search_set = read_file('testfiles/test-search.txt')\n",
    "\n",
    "\n",
    "def print_data(Name, insert_time, search_time):\n",
    "    print(f\"Insert and search times for {Name} are as follows:\")\n",
    "    print(f\"Insert time: {insert_time:.6f} seconds\")\n",
    "    print(f\"Search time: {search_time:.6f} seconds\")\n",
    "    print()\n",
    "\n",
    "def test_total_time(searchAlg ,search_set, data_set):\n",
    "    gc.disable()\n",
    "    insert_time = timeit.timeit(lambda: [searchAlg.insertElement(word) for word in data_set], number=1)\n",
    "    search_time = timeit.timeit(lambda: [searchAlg.searchElement(search_word)\n",
    "                                         for search_word in search_set], number=1)\n",
    "    gc.enable()\n",
    "    return insert_time, search_time\n",
    "\n",
    "def total_times_real():\n",
    "\n",
    "    for file in files:\n",
    "        seq = SequentialSearchSet()\n",
    "        bst = BinarySearchTreeSet()\n",
    "        rbt = BalancedSearchTreeSet()\n",
    "        bloom = BloomFilterSet()\n",
    "        print(f\"Testing {file[6:-4]}\")\n",
    "\n",
    "        insert_time, search_time = test_total_time(seq, search_set, read_file(f\"testfiles/{file}\"))\n",
    "        print_data(seq.__class__.__name__, insert_time, search_time)\n",
    "\n",
    "total_times_real()"
   ]
  },
  {
   "cell_type": "markdown",
   "metadata": {
    "collapsed": false
   },
   "source": [
    "Test Synthetic Data times"
   ]
  },
  {
   "cell_type": "code",
   "execution_count": 76,
   "metadata": {},
   "outputs": [
    {
     "name": "stdout",
     "output_type": "stream",
     "text": [
      "For data set of size: 10000\n",
      "Worst case:\n",
      "Insert and search times for SequentialSearchSet are as follows:\n",
      "Insert time: 0.528102 seconds\n",
      "Search time: 0.045115 seconds\n",
      "\n",
      "Insert and search times for BinarySearchTreeSet are as follows:\n",
      "Insert time: 2.006933 seconds\n",
      "Search time: 0.071180 seconds\n",
      "\n",
      "Insert and search times for BalancedSearchTreeSet are as follows:\n",
      "Insert time: 0.005605 seconds\n",
      "Search time: 0.000334 seconds\n",
      "\n",
      "Average cases:\n",
      "Insert and search times for SequentialSearchSet are as follows:\n",
      "Insert time: 0.543466 seconds\n",
      "Search time: 0.054238 seconds\n",
      "\n",
      "Insert and search times for BinarySearchTreeSet are as follows:\n",
      "Insert time: 0.008537 seconds\n",
      "Search time: 0.000402 seconds\n",
      "\n",
      "Insert and search times for BalancedSearchTreeSet are as follows:\n",
      "Insert time: 0.006089 seconds\n",
      "Search time: 0.000344 seconds\n",
      "\n",
      "Insert and search times for BloomFilterSet are as follows:\n",
      "Insert time: 0.004972 seconds\n",
      "Search time: 0.000086 seconds\n",
      "\n"
     ]
    }
   ],
   "source": [
    "def average_times_synthetic(search, data, size):\n",
    "    seq = SequentialSearchSet()\n",
    "    bst = BinarySearchTreeSet()\n",
    "    rb = BalancedSearchTreeSet()\n",
    "    bloom = BloomFilterSet()\n",
    "    if size <= 500000:\n",
    "        s = (seq ,bst, rb, bloom)\n",
    "    else:\n",
    "        s = (bst, rb, bloom)\n",
    "    for searchAlg in s:\n",
    "        insert_time, search_time = test_total_time(searchAlg, search, data)\n",
    "        print_data(searchAlg.__class__.__name__, insert_time, search_time)\n",
    "\n",
    "def worst_times_synthetic(search, data):\n",
    "    bst = BinarySearchTreeSet()\n",
    "    rbt = BalancedSearchTreeSet()\n",
    "    seq = SequentialSearchSet()\n",
    "    for alg in (seq, bst, rbt):\n",
    "        insert_time, search_time = test_total_time(alg, search, data)\n",
    "        print_data(alg.__class__.__name__, insert_time, search_time)\n",
    "\n",
    "def test_worst_average(size):\n",
    "    tdg = TestDataGenerator()\n",
    "\n",
    "    print(f\"For data set of size: {size}\")\n",
    "    data = tdg.generateData(size)\n",
    "    search = tdg.generateData(500)\n",
    "    worst = sorted(data)\n",
    "    worst_search = tdg.worstCaseSearch(500)\n",
    "    if size < 500000:\n",
    "        print(\"Worst case:\")\n",
    "        worst_times_synthetic(worst_search, worst)\n",
    "    print(\"Average cases:\")\n",
    "    average_times_synthetic(search, data, size)\n",
    "\n",
    "test_worst_average(10000)"
   ]
  },
  {
   "cell_type": "markdown",
   "metadata": {
    "collapsed": false
   },
   "source": []
  },
  {
   "cell_type": "code",
   "execution_count": 21,
   "metadata": {
    "collapsed": false
   },
   "outputs": [
    {
     "name": "stdout",
     "output_type": "stream",
     "text": [
      "Data structure: BinarySearchTree\n",
      "Insertion time: 2.012094291014364\n",
      "Search time: 0.15135712499613874\n",
      "Data structure: BalancedSearchTree\n",
      "Insertion time: 0.01316029200097546\n",
      "Search time: 0.0007506249821744859\n",
      "Data structure: BloomFilter\n",
      "Insertion time: 0.0059147499850951135\n",
      "Search time: 0.00036524998722597957\n",
      "\n"
     ]
    }
   ],
   "source": [
    "def initialise_structs():\n",
    "    return (SequentialSearchSet(), BinarySearchTreeSet(), BalancedSearchTreeSet(), BloomFilterSet()) # NOQA\n",
    "\n",
    "def insertTest(bst, text):\n",
    "    for word in text:\n",
    "        bst.insertElement(word)\n",
    "\n",
    "def searchTest(bst, text):\n",
    "    for word in text:\n",
    "        bst.searchElement(word)\n",
    "\n",
    "def insert_and_search(struct, text, searchtext):\n",
    "\n",
    "    insert_time = timeit.timeit(lambda: insertTest(struct, text), number=1)\n",
    "    search_time = timeit.timeit(lambda: searchTest(struct, searchtext), number=1)\n",
    "\n",
    "    print(f\"Data structure: {struct.__class__.__name__[:-3]}\")\n",
    "    print(f\"Insertion time: {insert_time}\")\n",
    "    print(f\"Search time: {search_time}\")\n",
    "\n",
    "n = 10000\n",
    "synthetic = TestDataGenerator()\n",
    "syn_data = synthetic.generateData(n)\n",
    "\n",
    "syn_search = synthetic.generateSearchSet(n//10)\n",
    "syn_data = synthetic.treeWorstCase(syn_data)\n",
    "\n",
    "def test_and_print():\n",
    "    bst, rbt, bloom = initialise_structs()[1:]\n",
    "    for struct in (bst, rbt, bloom):\n",
    "        insert_and_search(struct, syn_data, syn_search)\n",
    "\n",
    "    print()\n",
    "\n",
    "test_and_print()"
   ]
  },
  {
   "cell_type": "markdown",
   "metadata": {
    "collapsed": false
   },
   "source": [
    "Testing BloomFilter false positives"
   ]
  },
  {
   "cell_type": "code",
   "execution_count": 107,
   "metadata": {
    "collapsed": false
   },
   "outputs": [
    {
     "name": "stdout",
     "output_type": "stream",
     "text": [
      "Total words: 10000\n",
      "Percentage of false positives: 0.09\n",
      "Total words: 100000\n",
      "Percentage of false positives: 7.05\n",
      "Total words: 1000000\n",
      "Percentage of false positives: 99.34\n"
     ]
    }
   ],
   "source": [
    "def test_bloom_filter_accuracy(sizes):\n",
    "    bloom = BloomFilterSet()\n",
    "    RBTree = BalancedSearchTreeSet()\n",
    "    data = TestDataGenerator()\n",
    "    words = []\n",
    "    total = 0\n",
    "    for n in sizes:\n",
    "        total += n\n",
    "        new_words = data.generateData(n)\n",
    "        search_words = data.worstCaseSearch(n)\n",
    "        words.extend(new_words)\n",
    "        for word in new_words:\n",
    "            bloom.insertElement(word)\n",
    "            RBTree.insertElement(word)\n",
    "        false_positives = 0\n",
    "        for search_word in search_words:\n",
    "            if bloom.searchElement(search_word) and not RBTree.searchElement(search_word):\n",
    "                false_positives += 1\n",
    "        print(f\"Total words: {total}\")\n",
    "        print(f\"Percentage of false positives: {(false_positives/len(search_words)*100):.2f}\")\n",
    "\n",
    "# Call the function with the default size of 100,000\n",
    "test_bloom_filter_accuracy([10000, 90000, 900000])"
   ]
  },
  {
   "cell_type": "markdown",
   "metadata": {
    "collapsed": false
   },
   "source": [
    "Plotting all algorithms onto one graph"
   ]
  },
  {
   "cell_type": "code",
   "execution_count": 410,
   "metadata": {
    "collapsed": false
   },
   "outputs": [],
   "source": [
    "import timeit\n",
    "import matplotlib.pyplot as plt\n",
    "import gc\n",
    "\n",
    "\n",
    "def time_insert(search_alg, data):\n",
    "    insert_time = timeit.timeit(lambda: [search_alg.insertElement(word)\n",
    "                                         for word in data], number=100)/100\n",
    "    return insert_time\n",
    "\n",
    "\n",
    "def time_search(search_alg, search_set):\n",
    "    search_time = timeit.timeit(lambda: [search_alg.searchElement(search_word)\n",
    "                                         for search_word in search_set], number=100)/100\n",
    "    return search_time\n",
    "\n",
    "\n",
    "def run_tests(total_size, test):\n",
    "    results = {\n",
    "        'bst': {'insert_times': [], 'search_times': []},\n",
    "        'rbt': {'insert_times': [], 'search_times': []},\n",
    "        'bf': {'insert_times': [], 'search_times': []}\n",
    "    }\n",
    "\n",
    "    bst = BinarySearchTreeSet()\n",
    "    rbt = BalancedSearchTreeSet()\n",
    "    bf = BloomFilterSet()\n",
    "\n",
    "    data_set = []\n",
    "    for n in range(0, total_size, 500):\n",
    "        new_data = test.generateData(500)\n",
    "        search_set = test.generateSearchSet(100)\n",
    "        data_set.extend(new_data)\n",
    "\n",
    "        for alg_name, alg in [('bst', bst), ('rbt', rbt), ('bf', bf)]:\n",
    "            insert_time = time_insert(alg, new_data)\n",
    "            results[alg_name]['insert_times'].append(insert_time/500)\n",
    "\n",
    "            search_time = time_search(alg, search_set)\n",
    "            results[alg_name]['search_times'].append(search_time/100)\n",
    "    return results\n",
    "\n",
    "\n",
    "def plot_graph(bst, rbt, bf, input_sizes):\n",
    "    plt.plot(input_sizes, bst, color='blue', label='BinarySearchTree')\n",
    "    plt.plot(input_sizes, rbt, color='red', label='BalancedSearchTree')\n",
    "    plt.plot(input_sizes, bf, color='green', label='BloomFilter')\n",
    "    plt.plot(input_sizes, bst, color='blue', label='BinarySearchTree')\n",
    "    plt.plot(input_sizes, rbt, color='red', label='BalancedSearchTree')\n",
    "    plt.plot(input_sizes, bf, color='green', label='BloomFilter')\n",
    "    plt.xlabel('Number of words')\n",
    "    plt.ylabel('Time taken (s)')\n",
    "    plt.legend()\n",
    "    plt.show()\n",
    "\n",
    "\n",
    "def generate_graphs():\n",
    "    test = TestDataGenerator()\n",
    "    total_size = 100000\n",
    "\n",
    "    results = run_tests(total_size, test)\n",
    "\n",
    "    input_sizes = range(0, total_size, 500)\n",
    "\n",
    "    print(\"INSERTION TIMES\")\n",
    "    plot_graph(results['bst']['insert_times'], results['rbt']['insert_times'], results['bf']['insert_times'], input_sizes)\n",
    "\n",
    "    print(\"SEARCH TIMES\")\n",
    "    plot_graph(results['bst']['search_times'], results['rbt']['search_times'], results['bf']['search_times'], input_sizes)\n",
    "\n",
    "#generate_graphs()"
   ]
  },
  {
   "cell_type": "markdown",
   "metadata": {
    "collapsed": false
   },
   "source": [
    "Graphing Sequential"
   ]
  },
  {
   "cell_type": "code",
   "execution_count": null,
   "metadata": {
    "collapsed": false,
    "pycharm": {
     "is_executing": true
    }
   },
   "outputs": [],
   "source": [
    "def single_run_tests(total_size, test, average, worst):\n",
    "    results = {\n",
    "        'average': {'insert_times': [], 'search_times': []},\n",
    "        'worst': {'insert_times': [], 'search_times': []}\n",
    "    }\n",
    "\n",
    "    data_set = test.generateData(total_size)\n",
    "    data_set_worst = sorted(data_set)\n",
    "    prev = 0\n",
    "    search_set = test.generateSearchSet(100)\n",
    "    worst_search = test.worstCaseSearch(100)\n",
    "    for n in range(0, total_size):\n",
    "\n",
    "        insert_time = time_insert(average, data_set[prev:n])\n",
    "        results['average']['insert_times'].append(insert_time/max(n-prev, 1))\n",
    "\n",
    "        insert_time_w = time_insert(worst, data_set_worst[prev:n])\n",
    "        results['worst']['insert_times'].append(insert_time_w/max(n-prev, 1))\n",
    "\n",
    "        search_time = time_search(average, search_set)\n",
    "        results['average']['search_times'].append(search_time/len(search_set))\n",
    "\n",
    "        search_time_w = time_search(worst, worst_search)\n",
    "        results['worst']['search_times'].append(search_time_w/len(worst_search))\n",
    "\n",
    "        prev = n\n",
    "    return results\n",
    "\n",
    "def single_plot_graph(normalS, worstS, normalI, worstI, input_sizes, seq=False):\n",
    "    plt.plot(input_sizes, normalS, color='blue', label='Average Case Search')\n",
    "    plt.plot(input_sizes, worstS, color='lightskyblue', label='Worst Case Search')\n",
    "    plt.plot(input_sizes, normalI, color='red', label='Average Case Insert')\n",
    "    plt.plot(input_sizes, worstI, color='salmon', label='Worst Case Insert')\n",
    "    plt.xlabel('Number of words')\n",
    "    plt.ylabel('Time taken (s)')\n",
    "    plt.legend()\n",
    "    plt.show()\n",
    "\n",
    "\n",
    "def generate_graphs():\n",
    "    test = TestDataGenerator()\n",
    "    total_size = 500\n",
    "    input_sizes = range(0, total_size)\n",
    "    # algorithms can be changed to get worst and average case for each seperate algorithm\n",
    "    bst = BinarySearchTreeSet()\n",
    "    bst_w = BinarySearchTreeSet()\n",
    "    results = single_run_tests(total_size, test, bst, bst_w)\n",
    "    print(bst.__class__.__name__)\n",
    "    single_plot_graph(results['average']['search_times'], results['worst']['search_times'], results['average']['insert_times'], results['worst']['insert_times'], input_sizes)\n",
    "\n",
    "\n",
    "generate_graphs()"
   ]
  },
  {
   "cell_type": "markdown",
   "metadata": {
    "collapsed": false
   },
   "source": [
    "Graphing BST average and worst case"
   ]
  },
  {
   "cell_type": "code",
   "execution_count": 16,
   "metadata": {
    "collapsed": false
   },
   "outputs": [
    {
     "name": "stdout",
     "output_type": "stream",
     "text": [
      "BST INSERTION TIMES\n"
     ]
    },
    {
     "data": {
      "image/png": "[encoded data removed]",
      "text/plain": [
       "<Figure size 640x480 with 1 Axes>"
      ]
     },
     "metadata": {},
     "output_type": "display_data"
    },
    {
     "name": "stdout",
     "output_type": "stream",
     "text": [
      "BST SEARCH TIMES\n"
     ]
    },
    {
     "data": {
      "image/png": "[encoded data removed]",
      "text/plain": [
       "<Figure size 640x480 with 1 Axes>"
      ]
     },
     "metadata": {},
     "output_type": "display_data"
    }
   ],
   "source": [
    "def run_tests(total_size, test, worst_case=False):\n",
    "    results = {'bst': {'insert_times': [], 'search_times': []}}\n",
    "\n",
    "    bst = BinarySearchTreeSet()\n",
    "\n",
    "    data_set = test.generateData(total_size)\n",
    "    if worst_case:\n",
    "        data_set = test.treeWorstCase(data_set)\n",
    "    for n in range(0, total_size, 50):\n",
    "        new_data = data_set[n-50:n]\n",
    "        if worst_case:\n",
    "            search_set = test.worstCaseSearch(50)\n",
    "        else:\n",
    "            search_set = test.generateSearchSet(50)\n",
    "\n",
    "        alg_name, alg = ('bst', bst)\n",
    "        insert_time = time_insert(alg, new_data)\n",
    "        results[alg_name]['insert_times'].append(insert_time/50)\n",
    "\n",
    "        search_time = time_search(alg, search_set)\n",
    "        results[alg_name]['search_times'].append(search_time/50)\n",
    "\n",
    "    return results\n",
    "\n",
    "\n",
    "def plot_graph(avg_case, worst_case, input_sizes, label_avg, label_worst):\n",
    "    plt.plot(input_sizes, avg_case, color='blue', label=label_avg)\n",
    "    plt.plot(input_sizes, worst_case, color='red', label=label_worst)\n",
    "    plt.xlabel('Number of words')\n",
    "    plt.ylabel('Time taken (s)')\n",
    "    plt.legend()\n",
    "    plt.show()\n",
    "\n",
    "\n",
    "def generate_bst_graphs():\n",
    "    test = TestDataGenerator()\n",
    "    total_size = 500\n",
    "\n",
    "    avg_results = run_tests(total_size, test)\n",
    "    worst_results = run_tests(total_size, test, worst_case=True)\n",
    "\n",
    "    input_sizes = range(0, total_size, 50)\n",
    "\n",
    "    print(\"BST INSERTION TIMES\")\n",
    "    plot_graph(avg_results['bst']['insert_times'], worst_results['bst']['insert_times'], input_sizes, 'Average Case', 'Worst Case')\n",
    "\n",
    "    print(\"BST SEARCH TIMES\")\n",
    "    plot_graph(avg_results['bst']['search_times'], worst_results['bst']['search_times'], input_sizes, 'Average Case', 'Worst Case')\n",
    "\n",
    "# Generate the graphs for the BST algorithm\n",
    "generate_bst_graphs()\n"
   ]
  },
  {
   "cell_type": "code",
   "execution_count": null,
   "metadata": {
    "collapsed": false
   },
   "outputs": [],
   "source": []
  }
 ],
 "metadata": {
  "kernelspec": {
   "display_name": "Python 3 (ipykernel)",
   "language": "python",
   "name": "python3"
  },
  "language_info": {
   "codemirror_mode": {
    "name": "ipython",
    "version": 3
   },
   "file_extension": ".py",
   "mimetype": "text/x-python",
   "name": "python",
   "nbconvert_exporter": "python",
   "pygments_lexer": "ipython3",
   "version": "3.11.2"
  }
 },
 "nbformat": 4,
 "nbformat_minor": 4
}
