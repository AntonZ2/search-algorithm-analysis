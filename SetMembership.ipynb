{
 "cells": [
  {
   "cell_type": "markdown",
   "metadata": {},
   "source": [
    "# Set Membership"
   ]
  },
  {
   "cell_type": "markdown",
   "metadata": {},
   "source": [
    "The cell below defines two **abstract classes**: the first represents a set and basic insert/search operations on it. You will need to impement this API four times, to implement (1) sequential search, (2) binary search tree, (3) balanced search tree, and (4) bloom filter. The second defines the synthetic data generator you will need to implement as part of your experimental framework. <br><br>**Do NOT modify the next cell** - use the dedicated cells further below for your implementation instead. <br>"
   ]
  },
  {
   "cell_type": "code",
   "execution_count": 2,
   "metadata": {},
   "outputs": [],
   "source": [
    "# DO NOT MODIFY THIS CELL\n",
    "\n",
    "from abc import ABC, abstractmethod  \n",
    "\n",
    "# abstract class to represent a set and its insert/search operations\n",
    "class AbstractSet(ABC):\n",
    "    \n",
    "    # constructor\n",
    "    @abstractmethod\n",
    "    def __init__(self):\n",
    "        pass           \n",
    "        \n",
    "    # inserts \"element\" in the set\n",
    "    # returns \"True\" after successful insertion, \"False\" if the element is already in the set\n",
    "    # element : str\n",
    "    # inserted : bool\n",
    "    @abstractmethod\n",
    "    def insertElement(self, element):     \n",
    "        inserted = False\n",
    "        return inserted   \n",
    "    \n",
    "    # checks whether \"element\" is in the set\n",
    "    # returns \"True\" if it is, \"False\" otherwise\n",
    "    # element : str\n",
    "    # found : bool\n",
    "    @abstractmethod\n",
    "    def searchElement(self, element):\n",
    "        found = False\n",
    "        return found    \n",
    "    \n",
    "    \n",
    "    \n",
    "# abstract class to represent a synthetic data generator\n",
    "class AbstractTestDataGenerator(ABC):\n",
    "    \n",
    "    # constructor\n",
    "    @abstractmethod\n",
    "    def __init__(self):\n",
    "        pass           \n",
    "        \n",
    "    # creates and returns a list of length \"size\" of strings\n",
    "    # size : int\n",
    "    # data : list<str>\n",
    "    @abstractmethod\n",
    "    def generateData(self, size):     \n",
    "        data = [\"\"]*size\n",
    "        return data"
   ]
  },
  {
   "cell_type": "markdown",
   "metadata": {},
   "source": [
    "Use the cell below to define any auxiliary data structure and python function you may need. Leave the implementation of the main API to the next code cells instead."
   ]
  },
  {
   "cell_type": "code",
   "execution_count": 3,
   "metadata": {},
   "outputs": [],
   "source": [
    "# ADD AUXILIARY DATA STRUCTURE DEFINITIONS AND HELPER CODE HERE\n",
    "\n"
   ]
  },
  {
   "cell_type": "markdown",
   "metadata": {},
   "source": [
    "Use the cell below to implement the requested API by means of **sequential search**."
   ]
  },
  {
   "cell_type": "code",
   "execution_count": 4,
   "metadata": {},
   "outputs": [],
   "source": [
    "class SequentialSearchSet(AbstractSet):\n",
    "    \n",
    "    def __init__(self):\n",
    "        # ADD YOUR CODE HERE\n",
    "        self.data = []\n",
    "\n",
    "    def insertElement(self, element):\n",
    "        # ADD YOUR CODE HERE\n",
    "        if element not in self.data:\n",
    "            self.data.append(element)\n",
    "            return True\n",
    "        return False\n",
    "\n",
    "    def searchElement(self, element):\n",
    "        # ADD YOUR CODE HERE\n",
    "        for item in self.data:\n",
    "            if item == element:\n",
    "                return True\n",
    "        return False"
   ]
  },
  {
   "cell_type": "markdown",
   "metadata": {},
   "source": [
    "Use the cell below to implement the requested API by means of **binary search tree**."
   ]
  },
  {
   "cell_type": "code",
   "execution_count": 5,
   "metadata": {},
   "outputs": [],
   "source": [
    "class Node:\n",
    "    def __init__(self, value):\n",
    "        self.value = value\n",
    "        self.left = None\n",
    "        self.right = None\n",
    "\n",
    "class BinarySearchTreeSet(AbstractSet):\n",
    "    \n",
    "    def __init__(self):\n",
    "        # ADD YOUR CODE HERE\n",
    "        self.root = None\n",
    "\n",
    "    def insertElement(self, element):\n",
    "        # ADD YOUR CODE HERE\n",
    "        if self.root is None:\n",
    "            self.root = Node(element)\n",
    "            return True\n",
    "        current = self.root\n",
    "        while current:\n",
    "            if current.value == element:\n",
    "                return False\n",
    "            elif current.value > element:\n",
    "                if current.left is None:\n",
    "                    current.left = Node(element)\n",
    "                    return True\n",
    "                current = current.left\n",
    "            else:\n",
    "                if current.right is None:\n",
    "                    current.right = Node(element)\n",
    "                    return True\n",
    "                current = current.right\n",
    "\n",
    "    def searchElement(self, element):\n",
    "        found = False\n",
    "        # ADD YOUR CODE HERE\n",
    "        current = self.root\n",
    "        while current:\n",
    "            if current.value == element:\n",
    "                found = True\n",
    "                break\n",
    "            elif current.value > element:\n",
    "                current = current.left\n",
    "            else:\n",
    "                current = current.right\n",
    "        return found"
   ]
  },
  {
   "cell_type": "markdown",
   "metadata": {},
   "source": [
    "Use the cell below to implement the requested API by means of **balanced search tree**."
   ]
  },
  {
   "cell_type": "code",
   "execution_count": 6,
   "metadata": {},
   "outputs": [],
   "source": [
    "class RBNode:\n",
    "    def __init__(self, value, parent, color=False):\n",
    "        self.value = value\n",
    "        self.left = None\n",
    "        self.right = None\n",
    "        self.color = color\n",
    "        self.parent = parent\n",
    "\n",
    "\n",
    "class BalancedSearchTreeSet(AbstractSet):\n",
    "    def __init__(self):\n",
    "        self.root = None\n",
    "\n",
    "    def searchElement(self, element):\n",
    "        found = False\n",
    "        current = self.root\n",
    "        while current:\n",
    "            if current.value == element:\n",
    "                found = True\n",
    "                break\n",
    "            elif current.value > element:\n",
    "                current = current.left\n",
    "            else:\n",
    "                current = current.right\n",
    "        return found\n",
    "\n",
    "    def insertElement(self, element):\n",
    "        if self.root is None:\n",
    "            self.root = RBNode(element, None, False)\n",
    "            return True\n",
    "        current = self.root\n",
    "        while current:\n",
    "            if current.value == element:\n",
    "                return False\n",
    "            elif current.value > element:\n",
    "                if current.left is None:\n",
    "                    current.left = RBNode(element, current, True)\n",
    "                    self.balanceTree(current.left)\n",
    "                    break\n",
    "                current = current.left\n",
    "            else:\n",
    "                if current.right is None:\n",
    "                    current.right = RBNode(element, current, True)\n",
    "                    self.balanceTree(current.right)\n",
    "                    break\n",
    "                current = current.right\n",
    "        return True\n",
    "\n",
    "    def balanceTree(self, new_node):\n",
    "        while new_node != self.root and new_node.parent.color:\n",
    "            if new_node.parent == new_node.parent.parent.right:\n",
    "                uncle = new_node.parent.parent.left\n",
    "                if uncle is None:\n",
    "                    return\n",
    "                if uncle.color:\n",
    "                    self.flipColors(new_node.parent.parent)\n",
    "                else:\n",
    "                    if new_node == new_node.parent.left:\n",
    "                        new_node = new_node.parent\n",
    "                        self.rotateRight(new_node)\n",
    "                    new_node.parent.color = False\n",
    "                    new_node.parent.parent.color = True\n",
    "                    self.rotateLeft(new_node.parent.parent)\n",
    "            else:\n",
    "                uncle = new_node.parent.parent.right  # uncle\n",
    "                if uncle is None:\n",
    "                    return\n",
    "                if uncle.color:\n",
    "                    self.flipColors(new_node.parent.parent)\n",
    "                else:\n",
    "                    if new_node == new_node.parent.right:\n",
    "                        new_node = new_node.parent\n",
    "                        self.rotateLeft(new_node)\n",
    "                    new_node.parent.color = False\n",
    "                    new_node.parent.parent.color = True\n",
    "                    self.rotateRight(new_node.parent.parent)\n",
    "        self.root.color = False\n",
    "\n",
    "    def rotateLeft(self, node):\n",
    "        x = node.right\n",
    "        node.right = x.left\n",
    "        x.left = node\n",
    "        x.color = node.color\n",
    "        node.color = True\n",
    "        return x\n",
    "\n",
    "    def rotateRight(self, node):\n",
    "        x = node.left\n",
    "        node.left = x.right\n",
    "        x.right = node\n",
    "        x.color = node.color\n",
    "        node.color = True\n",
    "        return x\n",
    "\n",
    "    def flipColors(self, node):\n",
    "        node.color = True\n",
    "        node.left.color = False\n",
    "        node.right.color = False\n",
    "\n",
    "    def isRed(self, node):\n",
    "        if node is None:\n",
    "            return False\n",
    "        return node.color\n"
   ]
  },
  {
   "cell_type": "markdown",
   "metadata": {},
   "source": [
    "Use the cell below to implement the requested API by means of **bloom filter**."
   ]
  },
  {
   "cell_type": "code",
   "execution_count": 19,
   "metadata": {},
   "outputs": [
    {
     "name": "stdout",
     "output_type": "stream",
     "text": [
      "True\n",
      "False\n",
      "True\n",
      "True\n",
      "False\n"
     ]
    }
   ],
   "source": [
    "import bitarray\n",
    "\n",
    "class BloomFilterSet(AbstractSet):\n",
    "    def __init__(self):\n",
    "        # ADD YOUR CODE HERE\n",
    "        self.size = 200\n",
    "        self.num_hashes = 4\n",
    "        self.bit_array = bitarray.bitarray(self.size)\n",
    "        self.bit_array.setall(0)\n",
    "\n",
    "    # FNV-1a hash\n",
    "    def hash(self, item, seed):\n",
    "        fnv_offset_basis = 0x811c9dc5\n",
    "        fnv_prime = 0x01000193\n",
    "        hash_val = fnv_offset_basis ^ seed\n",
    "        for char in item:\n",
    "            hash_val = (hash_val ^ ord(char)) * fnv_prime\n",
    "        return hash_val % self.size\n",
    "\n",
    "    # Simple hash\n",
    "    def _hash(self, item, seed):\n",
    "        hash_val = 0\n",
    "        for char in item:\n",
    "            hash_val = (hash_val * seed + ord(char)) % self.size\n",
    "        return hash_val\n",
    "\n",
    "    def insertElement(self, item):\n",
    "        inserted = False\n",
    "        for seed in range(self.num_hashes):\n",
    "            hash_val = self.hash(item, seed)\n",
    "            if self.bit_array[hash_val] == 0:\n",
    "                inserted = True\n",
    "            self.bit_array[hash_val] = 1\n",
    "        return inserted\n",
    "\n",
    "    def searchElement(self, item):\n",
    "        for seed in range(self.num_hashes):\n",
    "            hash_val = self.hash(item, seed)\n",
    "            if self.bit_array[hash_val] == 0:\n",
    "                return False\n",
    "        return True\n",
    "\n",
    "bloom = BloomFilterSet()\n",
    "bloom.insertElement(\"hello\")\n",
    "bloom.insertElement(\"world\")\n",
    "print(bloom.insertElement(\"bye\"))\n",
    "print(bloom.insertElement(\"bye\"))\n",
    "print(bloom.searchElement(\"hello\"))\n",
    "print(bloom.searchElement(\"world\"))\n",
    "print(bloom.searchElement(\"hello world\"))"
   ]
  },
  {
   "cell_type": "markdown",
   "metadata": {},
   "source": [
    "Use the cell below to implement the **synthetic data generator** as part of your experimental framework."
   ]
  },
  {
   "cell_type": "code",
   "execution_count": 8,
   "metadata": {},
   "outputs": [],
   "source": [
    "import string\n",
    "import random\n",
    "\n",
    "class TestDataGenerator(AbstractTestDataGenerator):\n",
    "    \n",
    "    def __init__(self):\n",
    "        # ADD YOUR CODE HERE\n",
    "        \n",
    "        pass           \n",
    "        \n",
    "    def generateData(self, size):     \n",
    "        # ADD YOUR CODE HERE\n",
    "        data = [\"\"]*size\n",
    "        \n",
    "\n",
    "        return data   \n",
    "\n"
   ]
  },
  {
   "cell_type": "markdown",
   "metadata": {},
   "source": [
    "Use the cells below for the python code needed to **fully evaluate your implementations**, first on real data and subsequently on synthetic data (i.e., read data from test files / generate synthetic one, instantiate each of the 4 set implementations in turn, then thorouhgly experiment with insert/search operations and measure their performance)."
   ]
  },
  {
   "cell_type": "code",
   "execution_count": null,
   "metadata": {},
   "outputs": [
    {
     "name": "stdout",
     "output_type": "stream",
     "text": [
      "warpeace, LLRBTree insert time: 6.809470540843904\n",
      "warpeace, LLRBTree search time:  0.026664209086447954\n"
     ]
    },
    {
     "ename": "KeyboardInterrupt",
     "evalue": "",
     "output_type": "error",
     "traceback": [
      "\u001B[0;31m---------------------------------------------------------------------------\u001B[0m",
      "\u001B[0;31mKeyboardInterrupt\u001B[0m                         Traceback (most recent call last)",
      "Cell \u001B[0;32mIn[9], line 18\u001B[0m\n\u001B[1;32m     15\u001B[0m             \u001B[38;5;28mprint\u001B[39m(\u001B[38;5;124mf\u001B[39m\u001B[38;5;124m\"\u001B[39m\u001B[38;5;132;01m{\u001B[39;00mfile[\u001B[38;5;241m6\u001B[39m:\u001B[38;5;241m-\u001B[39m\u001B[38;5;241m4\u001B[39m]\u001B[38;5;132;01m}\u001B[39;00m\u001B[38;5;124m, LLRBTree insert time: \u001B[39m\u001B[38;5;132;01m{\u001B[39;00minsert_time\u001B[38;5;132;01m}\u001B[39;00m\u001B[38;5;124m\"\u001B[39m)\n\u001B[1;32m     16\u001B[0m             \u001B[38;5;28mprint\u001B[39m(\u001B[38;5;124mf\u001B[39m\u001B[38;5;124m\"\u001B[39m\u001B[38;5;132;01m{\u001B[39;00mfile[\u001B[38;5;241m6\u001B[39m:\u001B[38;5;241m-\u001B[39m\u001B[38;5;241m4\u001B[39m]\u001B[38;5;132;01m}\u001B[39;00m\u001B[38;5;124m, LLRBTree search time:  \u001B[39m\u001B[38;5;132;01m{\u001B[39;00msearch_time\u001B[38;5;132;01m}\u001B[39;00m\u001B[38;5;124m\"\u001B[39m)\n\u001B[0;32m---> 18\u001B[0m \u001B[43mtest_real_data\u001B[49m\u001B[43m(\u001B[49m\u001B[43m)\u001B[49m\n",
      "Cell \u001B[0;32mIn[9], line 13\u001B[0m, in \u001B[0;36mtest_real_data\u001B[0;34m()\u001B[0m\n\u001B[1;32m     11\u001B[0m data \u001B[38;5;241m=\u001B[39m f\u001B[38;5;241m.\u001B[39mread()\u001B[38;5;241m.\u001B[39msplit()\n\u001B[1;32m     12\u001B[0m bst \u001B[38;5;241m=\u001B[39m SequentialSearchSet()\n\u001B[0;32m---> 13\u001B[0m insert_time \u001B[38;5;241m=\u001B[39m \u001B[43mtimeit\u001B[49m\u001B[38;5;241;43m.\u001B[39;49m\u001B[43mtimeit\u001B[49m\u001B[43m(\u001B[49m\u001B[38;5;28;43;01mlambda\u001B[39;49;00m\u001B[43m:\u001B[49m\u001B[43m \u001B[49m\u001B[43m[\u001B[49m\u001B[43mbst\u001B[49m\u001B[38;5;241;43m.\u001B[39;49m\u001B[43minsertElement\u001B[49m\u001B[43m(\u001B[49m\u001B[43mword\u001B[49m\u001B[43m)\u001B[49m\u001B[43m \u001B[49m\u001B[38;5;28;43;01mfor\u001B[39;49;00m\u001B[43m \u001B[49m\u001B[43mword\u001B[49m\u001B[43m \u001B[49m\u001B[38;5;129;43;01min\u001B[39;49;00m\u001B[43m \u001B[49m\u001B[43mdata\u001B[49m\u001B[43m]\u001B[49m\u001B[43m,\u001B[49m\u001B[43m \u001B[49m\u001B[43mnumber\u001B[49m\u001B[38;5;241;43m=\u001B[39;49m\u001B[38;5;241;43m1\u001B[39;49m\u001B[43m)\u001B[49m\n\u001B[1;32m     14\u001B[0m search_time \u001B[38;5;241m=\u001B[39m timeit\u001B[38;5;241m.\u001B[39mtimeit(\u001B[38;5;28;01mlambda\u001B[39;00m: [bst\u001B[38;5;241m.\u001B[39msearchElement(search_word) \u001B[38;5;28;01mfor\u001B[39;00m search_word \u001B[38;5;129;01min\u001B[39;00m search_data], number\u001B[38;5;241m=\u001B[39m\u001B[38;5;241m1\u001B[39m)\n\u001B[1;32m     15\u001B[0m \u001B[38;5;28mprint\u001B[39m(\u001B[38;5;124mf\u001B[39m\u001B[38;5;124m\"\u001B[39m\u001B[38;5;132;01m{\u001B[39;00mfile[\u001B[38;5;241m6\u001B[39m:\u001B[38;5;241m-\u001B[39m\u001B[38;5;241m4\u001B[39m]\u001B[38;5;132;01m}\u001B[39;00m\u001B[38;5;124m, LLRBTree insert time: \u001B[39m\u001B[38;5;132;01m{\u001B[39;00minsert_time\u001B[38;5;132;01m}\u001B[39;00m\u001B[38;5;124m\"\u001B[39m)\n",
      "File \u001B[0;32m/Library/Frameworks/Python.framework/Versions/3.11/lib/python3.11/timeit.py:234\u001B[0m, in \u001B[0;36mtimeit\u001B[0;34m(stmt, setup, timer, number, globals)\u001B[0m\n\u001B[1;32m    231\u001B[0m \u001B[38;5;28;01mdef\u001B[39;00m \u001B[38;5;21mtimeit\u001B[39m(stmt\u001B[38;5;241m=\u001B[39m\u001B[38;5;124m\"\u001B[39m\u001B[38;5;124mpass\u001B[39m\u001B[38;5;124m\"\u001B[39m, setup\u001B[38;5;241m=\u001B[39m\u001B[38;5;124m\"\u001B[39m\u001B[38;5;124mpass\u001B[39m\u001B[38;5;124m\"\u001B[39m, timer\u001B[38;5;241m=\u001B[39mdefault_timer,\n\u001B[1;32m    232\u001B[0m            number\u001B[38;5;241m=\u001B[39mdefault_number, \u001B[38;5;28mglobals\u001B[39m\u001B[38;5;241m=\u001B[39m\u001B[38;5;28;01mNone\u001B[39;00m):\n\u001B[1;32m    233\u001B[0m \u001B[38;5;250m    \u001B[39m\u001B[38;5;124;03m\"\"\"Convenience function to create Timer object and call timeit method.\"\"\"\u001B[39;00m\n\u001B[0;32m--> 234\u001B[0m     \u001B[38;5;28;01mreturn\u001B[39;00m \u001B[43mTimer\u001B[49m\u001B[43m(\u001B[49m\u001B[43mstmt\u001B[49m\u001B[43m,\u001B[49m\u001B[43m \u001B[49m\u001B[43msetup\u001B[49m\u001B[43m,\u001B[49m\u001B[43m \u001B[49m\u001B[43mtimer\u001B[49m\u001B[43m,\u001B[49m\u001B[43m \u001B[49m\u001B[38;5;28;43mglobals\u001B[39;49m\u001B[43m)\u001B[49m\u001B[38;5;241;43m.\u001B[39;49m\u001B[43mtimeit\u001B[49m\u001B[43m(\u001B[49m\u001B[43mnumber\u001B[49m\u001B[43m)\u001B[49m\n",
      "File \u001B[0;32m/Library/Frameworks/Python.framework/Versions/3.11/lib/python3.11/timeit.py:178\u001B[0m, in \u001B[0;36mTimer.timeit\u001B[0;34m(self, number)\u001B[0m\n\u001B[1;32m    176\u001B[0m gc\u001B[38;5;241m.\u001B[39mdisable()\n\u001B[1;32m    177\u001B[0m \u001B[38;5;28;01mtry\u001B[39;00m:\n\u001B[0;32m--> 178\u001B[0m     timing \u001B[38;5;241m=\u001B[39m \u001B[38;5;28;43mself\u001B[39;49m\u001B[38;5;241;43m.\u001B[39;49m\u001B[43minner\u001B[49m\u001B[43m(\u001B[49m\u001B[43mit\u001B[49m\u001B[43m,\u001B[49m\u001B[43m \u001B[49m\u001B[38;5;28;43mself\u001B[39;49m\u001B[38;5;241;43m.\u001B[39;49m\u001B[43mtimer\u001B[49m\u001B[43m)\u001B[49m\n\u001B[1;32m    179\u001B[0m \u001B[38;5;28;01mfinally\u001B[39;00m:\n\u001B[1;32m    180\u001B[0m     \u001B[38;5;28;01mif\u001B[39;00m gcold:\n",
      "File \u001B[0;32m<timeit-src>:6\u001B[0m, in \u001B[0;36minner\u001B[0;34m(_it, _timer, _stmt)\u001B[0m\n",
      "Cell \u001B[0;32mIn[9], line 13\u001B[0m, in \u001B[0;36mtest_real_data.<locals>.<lambda>\u001B[0;34m()\u001B[0m\n\u001B[1;32m     11\u001B[0m data \u001B[38;5;241m=\u001B[39m f\u001B[38;5;241m.\u001B[39mread()\u001B[38;5;241m.\u001B[39msplit()\n\u001B[1;32m     12\u001B[0m bst \u001B[38;5;241m=\u001B[39m SequentialSearchSet()\n\u001B[0;32m---> 13\u001B[0m insert_time \u001B[38;5;241m=\u001B[39m timeit\u001B[38;5;241m.\u001B[39mtimeit(\u001B[38;5;28;01mlambda\u001B[39;00m: \u001B[43m[\u001B[49m\u001B[43mbst\u001B[49m\u001B[38;5;241;43m.\u001B[39;49m\u001B[43minsertElement\u001B[49m\u001B[43m(\u001B[49m\u001B[43mword\u001B[49m\u001B[43m)\u001B[49m\u001B[43m \u001B[49m\u001B[38;5;28;43;01mfor\u001B[39;49;00m\u001B[43m \u001B[49m\u001B[43mword\u001B[49m\u001B[43m \u001B[49m\u001B[38;5;129;43;01min\u001B[39;49;00m\u001B[43m \u001B[49m\u001B[43mdata\u001B[49m\u001B[43m]\u001B[49m, number\u001B[38;5;241m=\u001B[39m\u001B[38;5;241m1\u001B[39m)\n\u001B[1;32m     14\u001B[0m search_time \u001B[38;5;241m=\u001B[39m timeit\u001B[38;5;241m.\u001B[39mtimeit(\u001B[38;5;28;01mlambda\u001B[39;00m: [bst\u001B[38;5;241m.\u001B[39msearchElement(search_word) \u001B[38;5;28;01mfor\u001B[39;00m search_word \u001B[38;5;129;01min\u001B[39;00m search_data], number\u001B[38;5;241m=\u001B[39m\u001B[38;5;241m1\u001B[39m)\n\u001B[1;32m     15\u001B[0m \u001B[38;5;28mprint\u001B[39m(\u001B[38;5;124mf\u001B[39m\u001B[38;5;124m\"\u001B[39m\u001B[38;5;132;01m{\u001B[39;00mfile[\u001B[38;5;241m6\u001B[39m:\u001B[38;5;241m-\u001B[39m\u001B[38;5;241m4\u001B[39m]\u001B[38;5;132;01m}\u001B[39;00m\u001B[38;5;124m, LLRBTree insert time: \u001B[39m\u001B[38;5;132;01m{\u001B[39;00minsert_time\u001B[38;5;132;01m}\u001B[39;00m\u001B[38;5;124m\"\u001B[39m)\n",
      "Cell \u001B[0;32mIn[9], line 13\u001B[0m, in \u001B[0;36m<listcomp>\u001B[0;34m(.0)\u001B[0m\n\u001B[1;32m     11\u001B[0m data \u001B[38;5;241m=\u001B[39m f\u001B[38;5;241m.\u001B[39mread()\u001B[38;5;241m.\u001B[39msplit()\n\u001B[1;32m     12\u001B[0m bst \u001B[38;5;241m=\u001B[39m SequentialSearchSet()\n\u001B[0;32m---> 13\u001B[0m insert_time \u001B[38;5;241m=\u001B[39m timeit\u001B[38;5;241m.\u001B[39mtimeit(\u001B[38;5;28;01mlambda\u001B[39;00m: [bst\u001B[38;5;241m.\u001B[39minsertElement(word) \u001B[38;5;28;01mfor\u001B[39;00m word \u001B[38;5;129;01min\u001B[39;00m data], number\u001B[38;5;241m=\u001B[39m\u001B[38;5;241m1\u001B[39m)\n\u001B[1;32m     14\u001B[0m search_time \u001B[38;5;241m=\u001B[39m timeit\u001B[38;5;241m.\u001B[39mtimeit(\u001B[38;5;28;01mlambda\u001B[39;00m: [bst\u001B[38;5;241m.\u001B[39msearchElement(search_word) \u001B[38;5;28;01mfor\u001B[39;00m search_word \u001B[38;5;129;01min\u001B[39;00m search_data], number\u001B[38;5;241m=\u001B[39m\u001B[38;5;241m1\u001B[39m)\n\u001B[1;32m     15\u001B[0m \u001B[38;5;28mprint\u001B[39m(\u001B[38;5;124mf\u001B[39m\u001B[38;5;124m\"\u001B[39m\u001B[38;5;132;01m{\u001B[39;00mfile[\u001B[38;5;241m6\u001B[39m:\u001B[38;5;241m-\u001B[39m\u001B[38;5;241m4\u001B[39m]\u001B[38;5;132;01m}\u001B[39;00m\u001B[38;5;124m, LLRBTree insert time: \u001B[39m\u001B[38;5;132;01m{\u001B[39;00minsert_time\u001B[38;5;132;01m}\u001B[39;00m\u001B[38;5;124m\"\u001B[39m)\n",
      "\u001B[0;31mKeyboardInterrupt\u001B[0m: "
     ]
    }
   ],
   "source": [
    "import timeit\n",
    "\n",
    "# ADD YOUR TEST CODE HERE TO WORK ON REAL DATA\n",
    "files = [\"test1-mobydick.txt\", \"test2-warpeace.txt\", \"test3-dickens.txt\"]\n",
    "with open(\"testfiles/test-search.txt\", \"r\") as t:\n",
    "    search_data = t.read().split()\n",
    "\n",
    "def test_real_data():\n",
    "    for file in files:\n",
    "        with open(f\"testfiles/{file}\", \"r\") as f:\n",
    "            data = f.read().split()\n",
    "            bst = BalancedSearchTreeSet()\n",
    "            insert_time = timeit.timeit(lambda: [bst.insertElement(word) for word in data], number=1)\n",
    "            search_time = timeit.timeit(lambda: [bst.searchElement(search_word) for search_word in search_data], number=1)\n",
    "            print(f\"{file[6:-4]}, LLRBTree insert time: {insert_time}\")\n",
    "            print(f\"{file[6:-4]}, LLRBTree search time:  {search_time}\")\n",
    "\n",
    "test_real_data()"
   ]
  },
  {
   "cell_type": "code",
   "execution_count": null,
   "metadata": {},
   "outputs": [],
   "source": [
    "import timeit\n",
    "\n",
    "# ADD YOUR TEST CODE HERE TO WORK ON SYNTHETIC DATA\n",
    "\n",
    "\n",
    "\n"
   ]
  },
  {
   "cell_type": "markdown",
   "metadata": {
    "collapsed": false
   },
   "source": [
    "Testing the correctness of searches and error of bloom filter"
   ]
  },
  {
   "cell_type": "code",
   "execution_count": 21,
   "metadata": {
    "collapsed": false
   },
   "outputs": [
    {
     "name": "stdout",
     "output_type": "stream",
     "text": [
      "test1-mobydick.txt, false positives: 69, probability: 0.0003\n",
      "test2-warpeace.txt, false positives: 39, probability: 0.0001\n",
      "test3-dickens.txt, false positives: 25, probability: 0.0\n"
     ]
    }
   ],
   "source": [
    "def test_bloom_effectiveness():\n",
    "    bloom = BloomFilterSet()\n",
    "    LLRB = BinarySearchTreeSet()\n",
    "    for file in files:\n",
    "        with open(f\"testfiles/{file}\", \"r\") as f:\n",
    "            data = f.read().split()\n",
    "            for word in data:\n",
    "                LLRB.insertElement(word)\n",
    "                bloom.insertElement(word)\n",
    "            false = 0\n",
    "            for word in search_data:\n",
    "                if bloom.searchElement(word) and not LLRB.searchElement(word):\n",
    "                    false += 1\n",
    "            print(f\"{file}, false positives: {false}, probability: {round(false/len(data), 4)}\")\n",
    "\n",
    "def test_search_correctness():\n",
    "    bst = BinarySearchTreeSet\n",
    "    LLRB = BalancedSearchTreeSet\n",
    "    for file in files:\n",
    "        with open(f\"testfiles/{file}\", \"r\") as f:\n",
    "            data = f.read().split()\n",
    "            for word in data:\n",
    "                bst.insertElement(word)\n",
    "                LLRB.insertElement(word)\n",
    "            for word in data:\n",
    "                if not bst.searchElement(word) or not LLRB.searchElement(word):\n",
    "                    raise Exception(\"Search not working\")\n",
    "\n",
    "\n",
    "test_bloom_effectiveness()"
   ]
  },
  {
   "cell_type": "code",
   "execution_count": null,
   "outputs": [],
   "source": [],
   "metadata": {
    "collapsed": false
   }
  }
 ],
 "metadata": {
  "kernelspec": {
   "display_name": "Python 3 (ipykernel)",
   "language": "python",
   "name": "python3"
  },
  "language_info": {
   "codemirror_mode": {
    "name": "ipython",
    "version": 3
   },
   "file_extension": ".py",
   "mimetype": "text/x-python",
   "name": "python",
   "nbconvert_exporter": "python",
   "pygments_lexer": "ipython3",
   "version": "3.10.9"
  }
 },
 "nbformat": 4,
 "nbformat_minor": 4
}
