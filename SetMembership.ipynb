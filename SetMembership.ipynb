{
 "cells": [
  {
   "cell_type": "markdown",
   "metadata": {},
   "source": [
    "# Set Membership"
   ]
  },
  {
   "cell_type": "markdown",
   "metadata": {},
   "source": [
    "The cell below defines two **abstract classes**: the first represents a set and basic insert/search operations on it. You will need to impement this API four times, to implement (1) sequential search, (2) binary search tree, (3) balanced search tree, and (4) bloom filter. The second defines the synthetic data generator you will need to implement as part of your experimental framework. <br><br>**Do NOT modify the next cell** - use the dedicated cells further below for your implementation instead. <br>"
   ]
  },
  {
   "cell_type": "code",
   "execution_count": 1,
   "metadata": {},
   "outputs": [],
   "source": [
    "# DO NOT MODIFY THIS CELL\n",
    "\n",
    "from abc import ABC, abstractmethod  \n",
    "\n",
    "# abstract class to represent a set and its insert/search operations\n",
    "class AbstractSet(ABC):\n",
    "    \n",
    "    # constructor\n",
    "    @abstractmethod\n",
    "    def __init__(self):\n",
    "        pass           \n",
    "        \n",
    "    # inserts \"element\" in the set\n",
    "    # returns \"True\" after successful insertion, \"False\" if the element is already in the set\n",
    "    # element : str\n",
    "    # inserted : bool\n",
    "    @abstractmethod\n",
    "    def insertElement(self, element):     \n",
    "        inserted = False\n",
    "        return inserted   \n",
    "    \n",
    "    # checks whether \"element\" is in the set\n",
    "    # returns \"True\" if it is, \"False\" otherwise\n",
    "    # element : str\n",
    "    # found : bool\n",
    "    @abstractmethod\n",
    "    def searchElement(self, element):\n",
    "        found = False\n",
    "        return found    \n",
    "    \n",
    "    \n",
    "    \n",
    "# abstract class to represent a synthetic data generator\n",
    "class AbstractTestDataGenerator(ABC):\n",
    "    \n",
    "    # constructor\n",
    "    @abstractmethod\n",
    "    def __init__(self):\n",
    "        pass           \n",
    "        \n",
    "    # creates and returns a list of length \"size\" of strings\n",
    "    # size : int\n",
    "    # data : list<str>\n",
    "    @abstractmethod\n",
    "    def generateData(self, size):     \n",
    "        data = [\"\"]*size\n",
    "        return data"
   ]
  },
  {
   "cell_type": "markdown",
   "metadata": {},
   "source": [
    "Use the cell below to define any auxiliary data structure and python function you may need. Leave the implementation of the main API to the next code cells instead."
   ]
  },
  {
   "cell_type": "code",
   "execution_count": 2,
   "metadata": {},
   "outputs": [],
   "source": [
    "# ADD AUXILIARY DATA STRUCTURE DEFINITIONS AND HELPER CODE HERE\n",
    "\n"
   ]
  },
  {
   "cell_type": "markdown",
   "metadata": {},
   "source": [
    "Use the cell below to implement the requested API by means of **sequential search**."
   ]
  },
  {
   "cell_type": "code",
   "execution_count": 3,
   "metadata": {},
   "outputs": [],
   "source": [
    "class SequentialSearchSet(AbstractSet):\n",
    "    \n",
    "    def __init__(self):\n",
    "        # ADD YOUR CODE HERE\n",
    "        self.data = []\n",
    "        self.length = 0\n",
    "\n",
    "    def insertElement(self, element):\n",
    "        # ADD YOUR CODE HERE\n",
    "        if not self.searchElement(element):\n",
    "            self.data.append(element)\n",
    "            self.length += 1\n",
    "            return True\n",
    "        return False\n",
    "\n",
    "    def searchElement(self, element):\n",
    "        # ADD YOUR CODE HERE\n",
    "        for i in range(self.length):\n",
    "            if i == element:\n",
    "                return True\n",
    "        return False"
   ]
  },
  {
   "cell_type": "markdown",
   "metadata": {},
   "source": [
    "Use the cell below to implement the requested API by means of **binary search tree**."
   ]
  },
  {
   "cell_type": "code",
   "execution_count": 8,
   "metadata": {},
   "outputs": [
    {
     "name": "stdout",
     "output_type": "stream",
     "text": [
      "False\n",
      "True\n",
      "True\n",
      "True\n"
     ]
    }
   ],
   "source": [
    "class BinarySearchTreeSet(AbstractSet):\n",
    "    \n",
    "    def __init__(self, value=None):\n",
    "        # ADD YOUR CODE HERE\n",
    "        self.value = value\n",
    "        self.left = None\n",
    "        self.right = None\n",
    "\n",
    "    def insertElement(self, element):\n",
    "        inserted = False\n",
    "        # ADD YOUR CODE HERE\n",
    "        if self.value is None:\n",
    "            self.value = element\n",
    "        elif element < self.value:\n",
    "            if self.left is None:\n",
    "                self.left = BinarySearchTreeSet(element)\n",
    "                inserted = True\n",
    "            else:\n",
    "                self.left.insertElement(element)\n",
    "        elif element > self.value:\n",
    "            if self.right is None:\n",
    "                self.right = BinarySearchTreeSet(element)\n",
    "            else:\n",
    "                self.right.insertElement(element)\n",
    "        return inserted\n",
    "\n",
    "    def searchElement(self, element):     \n",
    "        found = False\n",
    "        # ADD YOUR CODE HERE\n",
    "        if element == self.value:\n",
    "            found = True\n",
    "        elif element < self.value and self.left:\n",
    "            return self.left.searchElement(element)\n",
    "        elif element > self.value and self.right:\n",
    "            return self.right.searchElement(element)\n",
    "        return found"
   ]
  },
  {
   "cell_type": "markdown",
   "metadata": {},
   "source": [
    "Use the cell below to implement the requested API by means of **balanced search tree**."
   ]
  },
  {
   "cell_type": "code",
   "execution_count": 6,
   "metadata": {},
   "outputs": [],
   "source": [
    "class Node:\n",
    "    def __init__(self, value, color=False):\n",
    "        self.value = value\n",
    "        self.left = None\n",
    "        self.right = None\n",
    "        self.color = color\n",
    "\n",
    "class BalancedSearchTreeSet(AbstractSet):\n",
    "    \n",
    "    def __init__(self):\n",
    "        # ADD YOUR CODE HERE\n",
    "        self.root = None\n",
    "\n",
    "    def insertElement(self, value):\n",
    "        self.root, inserted = self.insertHelper(self.root, value)\n",
    "        return inserted\n",
    "\n",
    "    def insertHelper(self, node, value):\n",
    "        if node is None:\n",
    "            return Node(value), True\n",
    "        if value < node.value:\n",
    "            node.left, inserted = self.insertHelper(node.left, value)\n",
    "        elif value > node.value:\n",
    "            node.right, inserted = self.insertHelper(node.right, value)\n",
    "        else:\n",
    "            return node, False\n",
    "        if self.isRed(node.right) and not self.isRed(node.left):\n",
    "            node = self.rotateLeft(node)\n",
    "        if self.isRed(node.left) and self.isRed(node.left.left):\n",
    "            node = self.rotateRight(node)\n",
    "        if self.isRed(node.left) and self.isRed(node.right):\n",
    "            self.flipColor(node)\n",
    "        return node, inserted\n",
    "\n",
    "    def searchElement(self, element):\n",
    "        found = False\n",
    "        # ADD YOUR CODE HERE\n",
    "        current = self.root\n",
    "        while current:\n",
    "            if current.value == element:\n",
    "                found = True\n",
    "                break\n",
    "            elif current.value > element:\n",
    "                current = current.left\n",
    "            else:\n",
    "                current = current.right\n",
    "        return found\n",
    "\n",
    "    def isRed(self, node):\n",
    "        if node is None:\n",
    "            return False\n",
    "        return node.color\n",
    "\n",
    "    def rotateLeft(self, node):\n",
    "        x = node.right\n",
    "        node.right = x.left\n",
    "        x.left = node\n",
    "        x.color = node.color\n",
    "        node.color = True\n",
    "        return x\n",
    "\n",
    "    def rotateRight(self, node):\n",
    "        x = node.left\n",
    "        node.left = x.right\n",
    "        x.right = node\n",
    "        x.color = node.color\n",
    "        node.color = True\n",
    "        return x\n",
    "\n",
    "    def flipColor(self, node):\n",
    "        node.color = True\n",
    "        node.left.color = False\n",
    "        node.right.color = False"
   ]
  },
  {
   "cell_type": "markdown",
   "metadata": {},
   "source": [
    "Use the cell below to implement the requested API by means of **bloom filter**."
   ]
  },
  {
   "cell_type": "code",
   "execution_count": 6,
   "metadata": {},
   "outputs": [],
   "source": [
    "class BloomFilterSet(AbstractSet):\n",
    "    \n",
    "    def __init__(self):\n",
    "        # ADD YOUR CODE HERE\n",
    "\n",
    "        \n",
    "        pass           \n",
    "     \n",
    "    \n",
    "        \n",
    "    def insertElement(self, element):\n",
    "        inserted = False\n",
    "        # ADD YOUR CODE HERE\n",
    "      \n",
    "        \n",
    "        return inserted\n",
    "    \n",
    "    \n",
    "\n",
    "    def searchElement(self, element):     \n",
    "        found = False\n",
    "        # ADD YOUR CODE HERE\n",
    "\n",
    "        \n",
    "        return found    "
   ]
  },
  {
   "cell_type": "markdown",
   "metadata": {},
   "source": [
    "Use the cell below to implement the **synthetic data generator** as part of your experimental framework."
   ]
  },
  {
   "cell_type": "code",
   "execution_count": 7,
   "metadata": {},
   "outputs": [],
   "source": [
    "import string\n",
    "import random\n",
    "\n",
    "class TestDataGenerator(AbstractTestDataGenerator):\n",
    "    \n",
    "    def __init__(self):\n",
    "        # ADD YOUR CODE HERE\n",
    "        \n",
    "        pass           \n",
    "        \n",
    "    def generateData(self, size):     \n",
    "        # ADD YOUR CODE HERE\n",
    "        data = [\"\"]*size\n",
    "        \n",
    "\n",
    "        return data   \n",
    "\n"
   ]
  },
  {
   "cell_type": "markdown",
   "metadata": {},
   "source": [
    "Use the cells below for the python code needed to **fully evaluate your implementations**, first on real data and subsequently on synthetic data (i.e., read data from test files / generate synthetic one, instantiate each of the 4 set implementations in turn, then thorouhgly experiment with insert/search operations and measure their performance)."
   ]
  },
  {
   "cell_type": "code",
   "execution_count": 8,
   "metadata": {},
   "outputs": [],
   "source": [
    "import timeit\n",
    "\n",
    "# ADD YOUR TEST CODE HERE TO WORK ON REAL DATA\n",
    "def read_file(filename):\n",
    "    my_file = open(filename, 'r')\n",
    "    lines = my_file.read()\n",
    "    return lines\n",
    "\n",
    "def test_spd_SequentialSearchSet():\n",
    "    testclass = SequentialSearchSet()\n",
    "    target_values = read_file('test-search.txt')\n",
    "    for fileName in {'test1-mobydick.txt', 'test2-warpeace.txt', 'test3-dickens.txt'}:\n",
    "        search_values = read_file(fileName)\n",
    "        for val in target_values:\n",
    "            testclass.insertElement(val)\n",
    "        for val in search_values:\n",
    "            print(testclass.searchElement(val))\n",
    "            \n",
    "def test_spd_BinarySearchTreeSet():\n",
    "    testclass = BinarySearchTreeSet()\n",
    "    target_values = read_file('test-search.txt')\n",
    "    for fileName in {'test1-mobydick.txt', 'test2-warpeace.txt', 'test3-dickens.txt'}:\n",
    "        search_values = read_file(fileName)\n",
    "        for val in target_values:\n",
    "            testclass.insertElement(val)\n",
    "        for val in search_values:\n",
    "            print(testclass.searchElement(val))\n",
    "            \n",
    "def test_spd_BalancedSearchTreeSet():\n",
    "    testclass = BalancedSearchTreeSet()\n",
    "    target_values = read_file('test-search.txt')\n",
    "    for fileName in {'test1-mobydick.txt', 'test2-warpeace.txt', 'test3-dickens.txt'}:\n",
    "        search_values = read_file(fileName)\n",
    "        for val in target_values:\n",
    "            testclass.insertElement(val)\n",
    "        for val in search_values:\n",
    "            print(testclass.searchElement(val))\n",
    "            \n",
    "def test_spd_BloomFilterSet():\n",
    "    testclass = BloomFilterSet()\n",
    "    target_values = read_file('test-search.txt')\n",
    "    for fileName in {'test1-mobydick.txt', 'test2-warpeace.txt', 'test3-dickens.txt'}:\n",
    "        search_values = read_file(fileName)\n",
    "        for val in target_values:\n",
    "            testclass.insertElement(val)\n",
    "        for val in search_values:\n",
    "            print(testclass.searchElement(val))\n",
    "            \n",
    "%timeit test_spd_SequentialSearchSet()\n",
    "%timeit test_spd_BinarySearchTreeSet()\n",
    "%timeit test_spd_BalancedSearchTreeSet()\n",
    "%timeit test_spd_BloodFilterSet()"
   ]
  },
  {
   "cell_type": "code",
   "execution_count": 9,
   "metadata": {},
   "outputs": [],
   "source": [
    "import timeit\n",
    "\n",
    "# ADD YOUR TEST CODE HERE TO WORK ON SYNTHETIC DATA\n",
    "\n",
    "\n",
    "\n"
   ]
  }
 ],
 "metadata": {
  "kernelspec": {
   "display_name": "Python 3",
   "language": "python",
   "name": "python3"
  },
  "language_info": {
   "codemirror_mode": {
    "name": "ipython",
    "version": 3
   },
   "file_extension": ".py",
   "mimetype": "text/x-python",
   "name": "python",
   "nbconvert_exporter": "python",
   "pygments_lexer": "ipython3",
   "version": "3.9.5"
  }
 },
 "nbformat": 4,
 "nbformat_minor": 4
}
